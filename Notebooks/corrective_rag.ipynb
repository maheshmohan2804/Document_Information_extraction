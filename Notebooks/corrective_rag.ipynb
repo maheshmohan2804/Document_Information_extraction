{
 "cells": [
  {
   "cell_type": "markdown",
   "metadata": {},
   "source": [
    "# Agentic Corrective RAG for Document Extraction\n",
    "\n",
    "Complete pipeline:\n",
    "1. PDF → Markdown conversion (Docling)\n",
    "2. Advanced chunking (min/max size, tables, overlap)\n",
    "3. LLM tagging & metadata extraction\n",
    "4. Vector storage (ChromaDB) + embeddings\n",
    "5. Hybrid retrieval (Semantic + BM25)\n",
    "6. **Agentic Corrective RAG** (query rewriting, relevance grading, iterative retrieval)\n",
    "7. Final document extraction"
   ]
  },
  {
   "cell_type": "code",
   "execution_count": null,
   "metadata": {},
   "outputs": [
    {
     "name": "stderr",
     "output_type": "stream",
     "text": [
      "c:\\Users\\madha\\.conda\\envs\\python-3.11\\Lib\\site-packages\\tqdm\\auto.py:21: TqdmWarning: IProgress not found. Please update jupyter and ipywidgets. See https://ipywidgets.readthedocs.io/en/stable/user_install.html\n",
      "  from .autonotebook import tqdm as notebook_tqdm\n"
     ]
    },
    {
     "name": "stdout",
     "output_type": "stream",
     "text": [
      "✅ All imports successful!\n"
     ]
    }
   ],
   "source": [
    "# Install dependencies\n",
    "# pip install chromadb rank-bm25 groq docling\n",
    "\n",
    "import os\n",
    "import re\n",
    "from typing import List, Dict\n",
    "from groq import Groq\n",
    "import chromadb\n",
    "from chromadb.utils import embedding_functions\n",
    "from rank_bm25 import BM25Okapi\n",
    "import numpy as np\n",
    "from docling.document_converter import DocumentConverter\n",
    "\n",
    "# Set API key\n",
    "os.environ[\"GROQ_KEY\"] = \"\"\n",
    "groq_client = Groq(api_key=os.environ[\"GROQ_KEY\"])\n",
    "\n",
    "print(\"✅ All imports successful!\")"
   ]
  },
  {
   "cell_type": "code",
   "execution_count": 34,
   "metadata": {},
   "outputs": [
    {
     "name": "stderr",
     "output_type": "stream",
     "text": [
      "2025-10-04 05:26:50,790 - INFO - detected formats: [<InputFormat.PDF: 'pdf'>]\n",
      "2025-10-04 05:26:50,808 - INFO - Going to convert document batch...\n",
      "2025-10-04 05:26:50,809 - INFO - Initializing pipeline for StandardPdfPipeline with options hash 6aac4dd683237d460df8729816c2accd\n",
      "2025-10-04 05:26:50,810 - INFO - Accelerator device: 'cuda:0'\n",
      "2025-10-04 05:26:53,868 - INFO - Accelerator device: 'cuda:0'\n",
      "2025-10-04 05:26:55,527 - INFO - Accelerator device: 'cuda:0'\n",
      "2025-10-04 05:26:56,522 - INFO - Processing document s12887-024-04607-3.pdf\n",
      "2025-10-04 05:27:24,467 - INFO - Finished converting document s12887-024-04607-3.pdf in 33.72 sec.\n"
     ]
    }
   ],
   "source": [
    "# pip install docling python-dotenv groq\n",
    "import os\n",
    "from pathlib import Path\n",
    "from docling.datamodel.base_models import InputFormat\n",
    "from docling.datamodel.pipeline_options import PdfPipelineOptions, PictureDescriptionApiOptions\n",
    "from docling.document_converter import DocumentConverter, PdfFormatOption\n",
    "\n",
    "GROQ_API_KEY =os.environ[\"GROQ_KEY\"]  # set this in your env\n",
    "\n",
    "source = r\"C:\\Users\\madha\\OneDrive\\Documents\\PDF Data Extraction Pipeline\\Data\\s12887-024-04607-3.pdf\"\n",
    "\n",
    "# 1) Configure Docling to call a remote VLM\n",
    "opts = PdfPipelineOptions(\n",
    "    enable_remote_services=True,         # REQUIRED for remote APIs\n",
    ")\n",
    "opts.do_picture_description = True\n",
    "opts.picture_description_options = PictureDescriptionApiOptions(\n",
    "    # Groq’s OpenAI-compatible chat.completions endpoint:\n",
    "    url=\"https://api.groq.com/openai/v1/chat/completions\",\n",
    "    headers={\"Authorization\": f\"Bearer {GROQ_API_KEY}\"},\n",
    "    params={\n",
    "        # Pick a Groq vision model (both accept image inputs):\n",
    "        \"model\": \"meta-llama/llama-4-scout-17b-16e-instruct\",\n",
    "        # optional tuning:\n",
    "        \"max_completion_tokens\": 350,\n",
    "        \"temperature\": 0.1,\n",
    "        \"top_p\": 0.10,\n",
    "        # seed=42  # (optional) for reproducibility\n",
    "    },\n",
    "    prompt=\"If it's scanned picture of text, just extract the text. If it's a diagram/figure, Describe it concisely and accurately, including axes/units if visible. If the image is a flowchart, describe the steps in order. If the image is a diagram, describe the components and their relationships. If the image is a graph, identify and describe the axes, trends and patterns.\",\n",
    "    timeout=90,\n",
    ")\n",
    "\n",
    "converter = DocumentConverter(format_options={\n",
    "    InputFormat.PDF: PdfFormatOption(pipeline_options=opts)\n",
    "})\n",
    "\n",
    "doc = converter.convert(source).document"
   ]
  },
  {
   "cell_type": "code",
   "execution_count": 35,
   "metadata": {},
   "outputs": [
    {
     "name": "stdout",
     "output_type": "stream",
     "text": [
      "Step 2: Setting up chunking functions...\n",
      "============================================================\n",
      "✅ Chunking functions ready!\n"
     ]
    }
   ],
   "source": [
    "# Step 2: Advanced Chunking Functions\n",
    "print(\"Step 2: Setting up chunking functions...\")\n",
    "print(\"=\" * 60)\n",
    "\n",
    "def extract_tables(markdown_text: str) -> List[Dict[str, any]]:\n",
    "    \"\"\"Extract tables from markdown.\"\"\"\n",
    "    tables = []\n",
    "    table_pattern = r'(\\|[^\\n]+\\|[\\n\\r]+\\|[-:\\s|]+\\|[\\n\\r]+(?:\\|[^\\n]+\\|[\\n\\r]+)*)'\n",
    "    \n",
    "    for match in re.finditer(table_pattern, markdown_text):\n",
    "        tables.append({\n",
    "            'content': match.group(0),\n",
    "            'start': match.start(),\n",
    "            'end': match.end()\n",
    "        })\n",
    "    return tables\n",
    "\n",
    "def recursive_chunk_with_overlap(text: str, max_size: int = 8000, overlap: int = 200) -> List[str]:\n",
    "    \"\"\"Recursively split text at paragraph/sentence/word boundaries with overlap.\"\"\"\n",
    "    if len(text) <= max_size:\n",
    "        return [text]\n",
    "    \n",
    "    chunks = []\n",
    "    \n",
    "    # Try paragraphs first\n",
    "    paragraphs = text.split('\\n\\n')\n",
    "    if len(paragraphs) > 1:\n",
    "        current_chunk = \"\"\n",
    "        \n",
    "        for para in paragraphs:\n",
    "            if len(current_chunk) + len(para) + 2 <= max_size:\n",
    "                current_chunk += (\"\\n\\n\" if current_chunk else \"\") + para\n",
    "            else:\n",
    "                if current_chunk:\n",
    "                    chunks.append(current_chunk)\n",
    "                    overlap_text = current_chunk[-overlap:] if len(current_chunk) > overlap else current_chunk\n",
    "                    current_chunk = overlap_text + \"\\n\\n\" + para\n",
    "                else:\n",
    "                    sub_chunks = recursive_chunk_with_overlap(para, max_size, overlap)\n",
    "                    chunks.extend(sub_chunks[:-1])\n",
    "                    current_chunk = sub_chunks[-1] if sub_chunks else \"\"\n",
    "        \n",
    "        if current_chunk:\n",
    "            chunks.append(current_chunk)\n",
    "        return chunks\n",
    "    \n",
    "    # Try sentences\n",
    "    sentences = re.split(r'(?<=[.!?])\\s+', text)\n",
    "    if len(sentences) > 1:\n",
    "        current_chunk = \"\"\n",
    "        \n",
    "        for sent in sentences:\n",
    "            if len(current_chunk) + len(sent) + 1 <= max_size:\n",
    "                current_chunk += (\" \" if current_chunk else \"\") + sent\n",
    "            else:\n",
    "                if current_chunk:\n",
    "                    chunks.append(current_chunk)\n",
    "                    overlap_text = current_chunk[-overlap:]\n",
    "                    current_chunk = overlap_text + \" \" + sent\n",
    "                else:\n",
    "                    sub_chunks = recursive_chunk_with_overlap(sent, max_size, overlap)\n",
    "                    chunks.extend(sub_chunks[:-1])\n",
    "                    current_chunk = sub_chunks[-1] if sub_chunks else \"\"\n",
    "        \n",
    "        if current_chunk:\n",
    "            chunks.append(current_chunk)\n",
    "        return chunks\n",
    "    \n",
    "    # Last resort: words\n",
    "    words = text.split()\n",
    "    current_chunk = \"\"\n",
    "    \n",
    "    for word in words:\n",
    "        if len(current_chunk) + len(word) + 1 <= max_size:\n",
    "            current_chunk += (\" \" if current_chunk else \"\") + word\n",
    "        else:\n",
    "            if current_chunk:\n",
    "                chunks.append(current_chunk)\n",
    "                overlap_text = current_chunk[-overlap:]\n",
    "                current_chunk = overlap_text + \" \" + word\n",
    "            else:\n",
    "                chunks.append(word[:max_size])\n",
    "                current_chunk = word[max_size:]\n",
    "    \n",
    "    if current_chunk:\n",
    "        chunks.append(current_chunk)\n",
    "    \n",
    "    return chunks\n",
    "\n",
    "def chunk_document(markdown_text: str, \n",
    "                   min_chunk_size: int = 1000, \n",
    "                   max_chunk_size: int = 8000,\n",
    "                   overlap: int = 200) -> List[Dict[str, str]]:\n",
    "    \"\"\"Main chunking function with all strategies.\"\"\"\n",
    "    \n",
    "    tables = extract_tables(markdown_text)\n",
    "    table_ranges = [(t['start'], t['end']) for t in tables]\n",
    "    \n",
    "    # Split by headers\n",
    "    pattern = r'(^#{2,3}\\s+.+?)(?=\\n#{2,3}\\s+|\\Z)'\n",
    "    matches = list(re.finditer(pattern, markdown_text, re.MULTILINE | re.DOTALL))\n",
    "    \n",
    "    # If no headers, use recursive chunking\n",
    "    if not matches:\n",
    "        print(\"No markdown headers found. Using recursive chunking...\")\n",
    "        chunk_texts = recursive_chunk_with_overlap(markdown_text, max_chunk_size, overlap)\n",
    "        return [{\n",
    "            \"header\": f\"Chunk {i+1}\",\n",
    "            \"content\": text,\n",
    "            \"char_count\": len(text),\n",
    "            \"contains_table\": False\n",
    "        } for i, text in enumerate(chunk_texts)]\n",
    "    \n",
    "    # Process header-based chunks\n",
    "    raw_chunks = []\n",
    "    for match in matches:\n",
    "        chunk_text = match.group(1).strip()\n",
    "        if chunk_text and len(chunk_text) > 50:\n",
    "            header_match = re.match(r'^(#{2,3}\\s+)(.+)', chunk_text)\n",
    "            header = header_match.group(2).strip() if header_match else \"Unknown\"\n",
    "            \n",
    "            chunk_start = match.start()\n",
    "            chunk_end = match.end()\n",
    "            contains_table = any(\n",
    "                (chunk_start <= t_start < chunk_end) or (chunk_start < t_end <= chunk_end)\n",
    "                for t_start, t_end in table_ranges\n",
    "            )\n",
    "            \n",
    "            raw_chunks.append({\n",
    "                \"header\": header,\n",
    "                \"content\": chunk_text,\n",
    "                \"char_count\": len(chunk_text),\n",
    "                \"contains_table\": contains_table\n",
    "            })\n",
    "    \n",
    "    # Combine small, split large\n",
    "    processed_chunks = []\n",
    "    i = 0\n",
    "    \n",
    "    while i < len(raw_chunks):\n",
    "        current = raw_chunks[i]\n",
    "        \n",
    "        # Keep tables as-is\n",
    "        if current['contains_table']:\n",
    "            processed_chunks.append(current)\n",
    "            i += 1\n",
    "            continue\n",
    "        \n",
    "        # Combine small chunks\n",
    "        if current['char_count'] < min_chunk_size:\n",
    "            combined_content = current['content']\n",
    "            combined_header = current['header']\n",
    "            j = i + 1\n",
    "            \n",
    "            while j < len(raw_chunks) and len(combined_content) < min_chunk_size:\n",
    "                if raw_chunks[j]['contains_table']:\n",
    "                    break\n",
    "                combined_content += \"\\n\\n\" + raw_chunks[j]['content']\n",
    "                combined_header += \" + \" + raw_chunks[j]['header']\n",
    "                j += 1\n",
    "            \n",
    "            # Check if combined is now too large\n",
    "            if len(combined_content) > max_chunk_size:\n",
    "                split_texts = recursive_chunk_with_overlap(combined_content, max_chunk_size, overlap)\n",
    "                for k, text in enumerate(split_texts, 1):\n",
    "                    processed_chunks.append({\n",
    "                        \"header\": f\"{combined_header} (Part {k})\" if len(split_texts) > 1 else combined_header,\n",
    "                        \"content\": text.strip(),\n",
    "                        \"char_count\": len(text.strip()),\n",
    "                        \"contains_table\": False\n",
    "                    })\n",
    "            else:\n",
    "                processed_chunks.append({\n",
    "                    \"header\": combined_header,\n",
    "                    \"content\": combined_content,\n",
    "                    \"char_count\": len(combined_content),\n",
    "                    \"contains_table\": False\n",
    "                })\n",
    "            i = j\n",
    "            continue\n",
    "        \n",
    "        # Split large chunks\n",
    "        if current['char_count'] > max_chunk_size:\n",
    "            split_texts = recursive_chunk_with_overlap(current['content'], max_chunk_size, overlap)\n",
    "            for k, text in enumerate(split_texts, 1):\n",
    "                processed_chunks.append({\n",
    "                    \"header\": f\"{current['header']} (Part {k})\" if len(split_texts) > 1 else current['header'],\n",
    "                    \"content\": text.strip(),\n",
    "                    \"char_count\": len(text.strip()),\n",
    "                    \"contains_table\": False\n",
    "                })\n",
    "            i += 1\n",
    "            continue\n",
    "        \n",
    "        # Just right\n",
    "        processed_chunks.append(current)\n",
    "        i += 1\n",
    "    \n",
    "    return processed_chunks\n",
    "\n",
    "print(\"✅ Chunking functions ready!\")"
   ]
  },
  {
   "cell_type": "code",
   "execution_count": 36,
   "metadata": {},
   "outputs": [
    {
     "name": "stdout",
     "output_type": "stream",
     "text": [
      "†\n",
      "\n",
      "## RESEARCH\n",
      "\n",
      "## Open Access\n",
      "\n",
      "## Factors influencing necrotizing enterocolitis in premature infants in China: a systematic review and meta-analysis\n",
      "\n",
      "<!-- image -->\n",
      "\n",
      "Shuliang Zhao 1,2† , Huimin Jiang 1† , Yiqun Miao 3 , Wenwen Liu 4 , Yanan Li 1 , Hui Liu 1 , Aihua Wang 1* , Xinghui Cui 2* and Yuanyuan Zhang 1\n",
      "\n",
      "## Abstract\n",
      "\n",
      "Background Necrotizing enterocolitis (NEC) is a multifactorial gastrointestinal disease with high morbidity and mortality among premature infants. However, studies with large samples on the factors of NEC in China have not been reported. This meta-analysis aims to systematically review the literature to explore the influencing factors of necrotizing enterocolitis in premature infants in China and provide a reference for the prevention of NEC.\n",
      "\n",
      "Methods PubMed, Embase, Web of Science, Cochrane Library, China National Knowledge Infrastructure (CNKI), China Biomedical Literature Database (CBM), Wanfang and VIP databases were systematically searched from inception to February 2023. We used Stata14.0 software to perform the systematic review and meta-analysis. We used fixed or random effects models with combined odds ratios (ORs) and 95% confidence intervals (CIs), and quality was evaluated using the Newcastle -Ottawa Scale (NOS).\n",
      "\n",
      "Results The total sample was 8616 cases, including 2456 cases in the intervention group and 6160 cases in the control group. It was found that 16 risk factors and 3 protective factors were related to necrotizing enterocolitis in premature infants. Septicemia (OR = 3.91), blood transfusion (OR = 2.41), neonatal asphyxia (OR = 2.46), pneumonia (OR = 6.17), infection (OR = 5.99), congenital heart disease (OR = 4.80), intrahepatic cholestasis of pregnancy (ICP) (OR = 2.71 ) , mechanical ventilation (OR = 1.44), gestational diabetes mellitus (GDM) (OR = 3.08), respiratory distress syndrome (RDS) (OR = 3.28), hypoalbuminemia (OR = 2.80), patent ductus arteriosus (PDA) (OR = 3.10), respiratory failure (OR = 7.51), severe anemia (OR = 2.86), history of antibiotic use (OR = 2.12), and meconium-stained amniotic fluid (MSAF) (OR = 3.14) were risk factors for NEC in preterm infants in China. Breastfeeding (OR = 0.31), oral probiotics (OR = 0.36), and prenatal use of glucocorticoids (OR = 0.38) were protective factors for NEC in preterm infants.\n",
      "\n",
      "Conclusions Septicemia, blood transfusion, neonatal asphyxia, pneumonia, infection, congenital heart disease, ICP , GDM, RDS, hypoproteinemia, PDA, respiratory failure, severe anemia, history of antibiotic use and MSAF will increase the risk of NEC in premature infants, whereas breastfeeding, oral probiotics and prenatal use of glucocorticoids reduce the risk. Due to the quantity and quality of the included literature, the above findings need to be further validated by more high-quality studies.\n",
      "\n",
      "Shuliang Zhao and Huimin Jiang contributed equally to this work.\n",
      "\n",
      "*Correspondence: Aihua Wang wangaihua64@163.com Xinghui Cui lcyxycxh@163.com Full list of author information is available at the end of the article\n",
      "\n",
      "<!-- image -->\n",
      "\n",
      "© The Author(s) 2024. Open Access This article is licensed under a Creative Commons Attribution 4.0 International License, which permits use, sharing, adaptation, distribution and reproduction in any medium or format, as long as you give appropriate credit to the original author(s) and the source, provide a link to the Creative Commons licence, and indicate if changes were made. The images or other third party material in this article are included in the article's Creative Commons licence, unless indicated otherwise in a credit line to the material. If material is not included in the article's Creative Commons licence and your intended use is not permitted by statutory regulation or exceeds the permitted use, you will need to obtain permission directly from the copyright holder. To view a copy of this licence, visit http://creativecommons.org/licenses/by/4.0/. The Creative Commons Public Domain Dedication waiver (http://creativecommons.org/publicdomain/zero/1.0/) applies to the data made available in this article, unless otherwise stated in a credit line to the data.\n",
      "\n",
      "Keywords Necrotizing enterocolitis, Premature infant, Influencing factors, Risk factors, Meta-analysis, China\n",
      "\n",
      "## Introduction\n",
      "\n",
      "Necrotizing enterocolitis (NEC) is one of the most common gastrointestinal diseases in neonates [1]. The onset of  NEC  is  not  clinically  specific,  and  the  disease  progresses  rapidly  and  can  be  complicated  by  intestinal perforation  and  necrosis,  causing  death  in  severe  cases [2].  Surviving  children  may  experience  severe  sequelae, including intestinal stricture,  short  bowel  syndrome, dependence on total parenteral nutrition, and neurodevelopmental disorders, leading to both growth and mental retardation. These conditions significantly impact the quality of life in later years [3, 4]. Over the past few years, China has made great progress in perinatal and neonatal  intensive  care,  the  survival  rate  has  increased,  and the  number of premature infants has increased sharply, especially  very  low  birth  weight  (VLBW)  or  extremely premature  infants  at  high  risk  of  NEC,  which  reflects the  importance  of  studying  the  epidemiology  of  contemporary NEC [5, 6].  In  China,  the  incidence  of  NEC was  found  to  be  5.5%  and  7.0%  for  infants  with  birth weights &lt; 1500  g  and  &lt; 1000  g,  respectively,  and  4.8% and 7.6% for infants born at &lt; 32 weeks and &lt; 28 weeks, respectively [7]. Therefore, NEC remains a fulminant disease, necessitating improved prevention, early diagnosis, and more rational management.\n",
      "\n",
      "NEC results from a combination of factors with complex pathophysiology and unclear mechanisms, and individual risk factors remain to be elucidated [8]. Identifying the clinical features that can predict NEC from the many influencing factors is the focus of prevention. Both maternal and neonatal factors may be risk factors for the development of NEC. It has been found that early identification of NEC risk factors, targeted interventions, and timely diagnosis and treatment are extremely important to reduce the morbidity and mortality of NEC [9]. Currently, relevant studies on the influencing factors of NEC in Chinese preterm infants have been reported [10-12]. However, the influence of the sample size and the completeness  of  the  children's  data  has  led  to  considerable variability in the results of these studies. As a result, the specific risk factors and protective factors related to NEC remain  unclear.  Although  overseas  studies  on  factors affecting  NEC  in  preterm  infants  have  been  conducted for a long time [13, 14], differences in medical practices, geographic  environments,  and  demographics  between regions may limit the blind generalization of known findings to all areas.\n",
      "\n",
      "Although  meta-analyses  of  risk  factors  for  neonatal NEC have been reported [15-17], opinions differ on the importance of NEC risk factors. The opinion of a panel of 35 international NEC experts pointed to the ambiguity of risk factors affecting NEC except for gestational age (GA),  birth  weight  (BW)  and  feeding  [18].  Studies  are limited  by  differences  in  population  characteristics  and different  definitions  of  NEC,  leading  to  some  variability in  findings.  This  suggests  that  there  are  modifiable  risk factors that give healthcare professionals the opportunity to intervene to reduce the risk of NEC. Considering that there is no meta-analysis for the factors affecting NEC in Chinese preterm infants, this study used systematic evaluation and meta-analysis by searching the latest literature to  explore  the  major  risk  factors  and  protective  factors affecting  the  occurrence  of  NEC  in  preterm  infants  in China, and to provide a scientific basis for the development of preventive measures for NEC.\n",
      "\n",
      "## Materials and methods\n",
      "\n",
      "## Search strategy\n",
      "\n",
      "The  present  systematic  review  and  meta-analysis  followed  the  preferred  reporting  items  in  the  systematic review and  meta-analysis (PRISMA)  guidelines  [19]. The  PRISMA  checklist  is  presented  in  S  Table  1.  The databases  of  China  National  Knowledge  Infrastructure (CNKI),  VIP  (Chinese)  and  WanFang  (Chinese)  database, China Biomedical Literature  Database  (CBM), Web of Science, Embase, and PubMed were searched for case -control studies and cohort studies from creation to February 2023. We searched the databases using a combination of subject terms and free words, while references of included studies were hand-searched to supplement  the  relevant  information  obtained.  The  keywords included ('premature infant' OR 'preterm infants 'OR' Neonatal  Prematurity'  OR  'very  preterm  infant'  OR' extremely preterm infants' OR 'Very low birth weight') AND ('necrotizing enterocolitis') AND ('risk factor' OR 'influence  factors')  AND  ('  case -control  studies'  OR 'cohort  study')  AND  ('Chinese'  OR  'China').  Detailed information on the search terms and search strategies is shown in S Table 2.\n",
      "\n",
      "## Inclusion and exclusion criteria\n",
      "\n",
      "Inclusion  criteria :  (1)  Study  participants:  Chinese  preterm infants with NEC, GA &lt; 37 weeks, weight &lt; 2500 g; (2) Clear diagnosis of NEC, defined as stage II and above according  to  the  Bell  criteria,  with  gastrointestinal  dysfunction clearly demonstrated by clinical symptoms and imaging assessment [20] (3). Study type: case-control or\n",
      "\n",
      "cohort study. The intervention group in the case-control study was preterm infants with confirmed NEC, and the control  group  was  preterm  infants  without  NEC;  the exposure group in the cohort study was preterm infants exposed  to  risk  factors  associated  with  NEC,  and  the control group was preterm infants not exposed to these risk factors (4). Study outcome: Risk factors and protective  factors  affecting  NEC  in  preterm  infants  (5).  Study language: Published in English or Chinese (6). Study date: Each database from the establishment to February 2023.\n",
      "\n",
      "Exclusion criteria : (1) conference abstracts, case reports, review categories, and literature without control groups; (2) literature with incomplete original study data and an inability to extract data; (3) Studies with duplicate publication.\n",
      "\n",
      "## Data extraction and quality assessment\n",
      "\n",
      "Three researchers  independently  extracted  data  according to the developed data collection form, and in case of discrepancies,  the  three  discussed  and  approved.  Data extracted  included  author,  publication  year,  study  area, study time, study type, study population, NEC diagnostic criteria, number of cases/control groups, influencing factors  and  Newcastle -Ottawa  Scale  (NOS)  score.  Two researchers independently performed quality assessment using  the  NOS  recommended  by  the  Cochrane  Collaboration Network [21]. In the event of disagreements, group discussions were held to reach a consensus. This scale  includes  3  modules  of  study  population,  comparability  between groups, and outcome evaluation and is divided into 8 entries with a score out of 9. NOS score ≥ 6 is  considered  high-quality  literature.  We  assessed  the methodological  quality  of  our  systematic  reviews  using the  A  Measurement  Tool  to  Assess  Systematic  Reviews 2  (AMSTAR2)  [22].  The  details  of  the  items  in  the AMSTAR-2 tool are shown in S Table 3.\n",
      "\n",
      "## Data synthesis and statistical analysis\n",
      "\n",
      "We used Stata 14.0 software to perform statistical analysis of the extracted data. Heterogeneity among the studies was analyzed using the χ 2 test (test level α = 0.1), and the Q test was combined with the I 2 statistic to determine heterogeneity.  When I 2 ≥ 50%,  it  indicated  high  heterogeneity  among  the  study  results,  and  a  random-effects model was used. Otherwise, the fixed effects model was used. To assess the stability of the combined results for statistically  significant  risk  factors,  we  conducted  sensitivity  analysis  by  comparing  the  values  obtained  from both  the  fixed-effects  model  and  the  random-effects model. Funnel plots were used to assess publication bias, and Egger's  statistical  test  was  used  to  analyze  whether publication  bias  was  statistically  significant.  Differences were considered statistically significant at P &lt;  0.05.\n",
      "\n",
      "## Results\n",
      "\n",
      "## Study selection\n",
      "\n",
      "The initial search yielded 2490 articles, and 1152 duplicates  were  removed  after  screening  by  Endnote  software; 1180 articles were removed after reading the title and abstract; 158 articles were retained for the full text screening,  and  38  eligible  articles  [10-12,  23-57]  were finally included. No additional eligible studies were identified through a manual search. The study selection flow chart is shown in Fig. 1.\n",
      "\n",
      "## Study characteristics and qualit y\n",
      "\n",
      "Thirty-eight studies (36 case -control studies [10-12, 2354, 57] and 2 cohort studies [55, 56]) were included, containing a total sample size of 8616 cases, with 2456 cases in  the  intervention group and 6160 cases in the control group,  from  16  different  provinces  in  China.  The  study population  consisted  of  preterm  infants  with  BW  less than 2500 g, GA less than 37 weeks, and Bell staging ≥ II. Diagnostic  criteria  for  NEC  vary.  Twenty-one  studies utilized the revised Bell Subdivision periodical standard of  Practical  Neonatology,  4th  edition,  for  the  diagnosis of NEC in preterm infants [58]. Two studies referred to the revised Bell Subdivision periodical standard of Practical  Neonatology,  5th  edition  [59].  Eight  studies  used the  modified  BELL-NEC  grading  scale  [20].  Two  studies used the revised Bell Subdivision periodical standard [60].  Three  studies  referred  to  Avery's  Diseases  of  the Newborn as the revised Bell marking criteria [61]. One study adopted to the Vermont Oxford Network's revised diagnostic criteria based on Bell staging [62]. One study referred  to  the  U.S.  Guidelines  for  the  Management  of Necrotizing Small Bowel Colitis in Very Low Birth Mass Children [63]. The detailed characteristics are shown in Table 1. Nine studies received a NOS quality assessment score of 6, 15 studies scored 7, 9 studies scored 8, and 5 studies  scored  9.  The  overall  quality  of  the  studies  was above the average (S Table 4).\n",
      "\n",
      "## Meta-analysis results\n",
      "\n",
      "The  heterogeneity  analysis  for  factors  influencing  NEC in preterm infants revealed that septicemia, blood transfusion,  neonatal  asphyxia,  pneumonia,  infection  occurrence, intrahepatic cholestasis of pregnancy (ICP), mechanical ventilation, gestational diabetes mellitus (GDM),  respiratory  distress  syndrome  (RDS),  prenatal application  of  glucocorticoids,  hypoproteinemia,  ductus arteriosus, severe anemia, and meconium-stained amniotic fluid (MSAF) exhibited low heterogeneity ( I 2 &lt;  50%)\n",
      "\n",
      "Fig. 1 Flow chart depicting the studies screened, selected and included based on PRISMA. NOS: Newcastle -Ottawa Scale. PRISMA: Preferred Reporting Items for Systematic Reviews and Meta-Analyses\n",
      "\n",
      "The image presents a flowchart illustrating the process of identifying and selecting studies for a meta-analysis. The chart is divided into several sections, each representing a stage in the study selection process.\n",
      "\n",
      "*   **Identification**\n",
      "    *   Records identified through databases searching (n = 2490)\n",
      "    *   Additional records identified through other sources (n = 0)\n",
      "*   **Screening**\n",
      "    *   Records after duplicates removed (n = 1338)\n",
      "    *   Records screened (n = 1338)\n",
      "        *   Records screened by title/abstract (n = 1180)\n",
      "            *   Irrelevant studies (n = 1158)\n",
      "            *   Language restriction (n = 8)\n",
      "            *   Reviews or reports (n = 14)\n",
      "*   **Eligibility**\n",
      "    *   Full-text articles assessed for eligibility (n = 158)\n",
      "    *   Full-text articles excluded, with reasons (n = 120)\n",
      "        *   Qualitative studies (n = 43)\n",
      "        *   No-extractable data (n = 39)\n",
      "        *   Inappropriate definition of exposure (n = 30)\n",
      "        *   NOS < 6 (n = 8)\n",
      "*   **Included**\n",
      "    *   Studies included in meta-analysis (n = 38)\n",
      "\n",
      "The flowchart provides a clear and concise overview of the study selection process, highlighting the number of records identified, screened, and excluded at each stage. The chart also provides reasons for the exclusion of full-text articles, including qualitative studies, lack of extractable data, inappropriate definition of exposure, and NOS < 6. Ultimately, 38 studies were included in the meta-analysis.\n",
      "\n",
      "<!-- image -->\n",
      "\n",
      "when  analyzed  using  a  fixed-effects  model  with  combined  effect  sizes.  On  the  other  hand,  oral  probiotics, breastfeeding,  congenital  heart  disease,  respiratory  failure,  and  history  of  antibiotic  use  had  high  heterogeneity  ( I 2 ≥ 50%)  and  were  analyzed  using  a  random-effects model.  The  meta-analysis  indicated  that  intravenous immunoglobulin  was  not  statistically  significant  with NEC in premature infants ( P &gt;  0.05), while all other influencing  factors  were  statistically  significant.  We  divided the factors that affect preterm infants with NEC into two main categories: protective factors and risk factors. Further details are provided in Table 2.\n",
      "\n",
      "## Protective factors\n",
      "\n",
      "This study showed that breastfeeding [OR = 0.31, 95% CI (0.16, 0.62), P &lt;  0.001], oral probiotics [OR = 0.36, 95% CI (0.25, 0.53), P &lt;  0.001] and prenatal application of glucocorticoids [OR = 0.38, 95% CI (0.24, 0.60), P &lt;  0.001] were protective factors for NEC in preterm infants.\n",
      "\n",
      "## Risk factors\n",
      "\n",
      "Septicemia  [OR = 3.91,  95%  CI  (3.37,4.55), P &lt;  0.001], blood transfusion [OR = 2.41, 95% CI (1.97, 2.95), P &lt;  0.001], severe anemia [OR = 2.86, 95% CI (2.06, 3.99), P &lt;  0.001],  neonatal  asphyxia  [OR = 2.46,  95%  CI  (2.07, 2.93), P &lt;  0.001],  pneumonia  [OR = 6.17,  95%  CI  (3.98, 9.57), P &lt;  0.001], mechanical ventilation [OR = 1.44, 95%  CI  (1.22,  1.71), P &lt;  0.001],  RDS  [OR = 3.28,  95% CI (2.23,4.85), P &lt;  0.001], congenital heart disease [OR = 4.80 95% CI (3.00, 7.68), P &lt;  0.001], hypoproteinemia  [OR = 2.80,  95%  CI  (1.78,  4.41), P &lt;  0.001],  PDA [OR = 3.10,  95%  CI  (1.93,  4.98), P &lt;  0.001],  history  of antibiotic  use  [OR = 2.12,  95%  CI  (1.18,3.81), P = 0.01], infection occurs [OR = 5.99, 95% CI (2.57, 13.93), P &lt;  0.001], ICP [OR = 2.71, 95% CI (1.92, 3.82), P &lt;  0.001], GDM [OR = 3.08, 95% CI (1.73, 5.48), P &lt;  0.001], respiratory  failure  [OR = 7.51,  95%  CI(1.60,  35.10), P = 0.01], MSAF [OR = 3.14,  95%  CI  (1.64,  6.01), P &lt;  0.001]  were risk factors for NEC in preterm infants.\n",
      "\n",
      "Table 1 Basic characteristics of research and the evaluation of research quality\n",
      "\n",
      "| Author, year     | Study area   | Study time     | Study type   | Study population                       | NEC diagnostic criteria                                                    | Case group/ control group   | Influencing factors   |   NOSscore |\n",
      "|------------------|--------------|----------------|--------------|----------------------------------------|----------------------------------------------------------------------------|-----------------------------|-----------------------|------------|\n",
      "| Zeng, 2021 [24]  | Sichuan      | 2011.1-2019.10 | Case control | BW<1500 g, Bell staging≥II             | Adoption of modified BELL-NEC grad- ing standards (1978)                   | 30/467                      | ①⑮                    |          7 |\n",
      "| Cheng, 2016 [23] | Sichuan      | 2010.3-2015.3  | Case control | GA<34 weeks, Bell staging≥II           | Practical Neonatology, 4th Revised Bell staging diagnos- tic criteria      | 66/132                      | ①②③⑨⑫                 |          8 |\n",
      "| Liu, 2019 [25]   | Fujian       | 2012.1-2018.12 | Case control | BW<2500 g                              | Practical Neonatology, 4th Revised Bell staging diagnos- tic criteria      | 95/95                       | ④⑦⑯                   |          7 |\n",
      "| Shang, 2014 [26] | Sichuan      | 2011.8-2013.9  | Case control | GA<37 weeks, BW<2500 g                 | Adoption of modified BELL-NEC grad- ing standards (1978)                   | 37/62                       | ④⑨⑩                   |          7 |\n",
      "| Sun, 2017 [27]   | Shandong     | 2013.12-2016.9 | Case control | GA<37 weeks, BW<2000 g                 | Practical Neonatology, 4th Revised Bell staging diagnos- tic criteria      | 37/60                       | ②③⑤⑨⑩                 |          8 |\n",
      "| Dong, 2021 [10]  | Henan        | 2012.1-2019.11 | Case control | GA<32 weeks, Bell Staging II-III       | Revised Bell Subdivision peri- odical standard (1986)                      | 113/113                     | ①⑩                    |          7 |\n",
      "| Lu, 2022 [28]    | Zhejiang     | 2018.1-2019.12 | Case control | GA<34weeks, BW<1500 g, Bell staging≥II | Practical Neo- natology, 5th Edition                                       | 52/52                       | ②⑨⑬                   |          6 |\n",
      "| Wang, 2022 [29]  | Jilin        | 2011.1-2020.12 | Case control | GA<37weeks, Bell Staging II-III        | Practical Neo- natology, 5th Edition                                       | 298/300                     | ②⑨                    |          7 |\n",
      "| Li, 2019 [30]    | Shanxi       | 2012.2-2018.11 | Case control | GA<37 weeks, BW<2500 g                 | Practical Neonatology, 4th Revised Bell staging diagnos- tic criteria      | 25/175                      | ③⑤⑥⑨⑩⑰                |          6 |\n",
      "| Lu, 2018 [31]    | Guangxi      | 2013.1-2015.5  | Case control | GA<33weeks, Bell staging≥II            | Practical Neonatology, 4th Revised Bell staging diagnos- tic criteria      | 50/50                       | ①③⑨⑩⑪⑱                |          7 |\n",
      "| Lu, 2013 [32]    | Jiangxi      | 2011.7-2013.4  | Case control | GA<37 weeks, BW<2500 g                 | Refer to Avery's diseases of the newborn the revised Bell marking criteria | 54/57                       | ①④⑰                   |          6 |\n",
      "| Lu, 2015 [33]    | Xamen        | 2008.1-2011.12 | Case control | GA<37 weeks, BW<2500 g                 | Practical Neonatology, 4th Revised Bell staging diagnos- tic criteria      | 59/95                       | ④⑨⑩                   |          6 |\n",
      "| Qu, 2019 [34]    | Guangdong    | 2013.6-2015.12 | Case control | GA≤32weeks                             | Practical Neonatology, 4th Revised Bell staging diagnos- tic criteria      | 65/130                      | ①②③⑦⑧⑫                |          8 |\n",
      "\n",
      "Zhao et al. BMC Pediatrics          (2024) 24:148\n",
      "\n",
      "Table 1 (continued)\n",
      "\n",
      "| Author, year     | Study area   | Study time      | Study type   | Study population                                      | NEC diagnostic criteria                                                                         | Case group/ control group   | Influencing factors   |   NOSscore |\n",
      "|------------------|--------------|-----------------|--------------|-------------------------------------------------------|-------------------------------------------------------------------------------------------------|-----------------------------|-----------------------|------------|\n",
      "| Shi, 2019 [35]   | Shanxi       | 2015.1-2018.6   | Case control | GA<37 weeks, BW<2500 g                                | Practical Neonatology, 4th Revised Bell staging diagnos- tic criteria                           | 32/150                      | ①②③⑦⑧⑩                |          7 |\n",
      "| Wang, 2014 [36]  | Beijing      | 2010.10-2012.12 | Case control | GA<33weeks, Bell staging≥II                           | Adoption of modified BELL-NEC grad- ing standards (1978)                                        | 49/121                      | ③                     |          7 |\n",
      "| Yu, 2018 [37]    | Guizhou      | 2006.1-2015.12  | Case control | BW<2500 g                                             | Practical Neonatology, 4th Revised Bell staging diagnos- tic criteria                           | 146/146                     | ①②⑨⑩⑪                 |          7 |\n",
      "| Zhu, 2012 [38]   | Jiangsu      | 2006.8-2011.4   | Case control | BW<1500 g, Bell staging≥II                            | Practical Neonatology, 4th Revised Bell staging diagnos- tic criteria                           | 20/303                      | ①⑪                    |          8 |\n",
      "| Hou, 2017 [39]   | Liaoning     | 2011.1-2016.1   | Case control | GA<37 weeks, BW<2500 g                                | Practical Neonatology, 4th Revised Bell staging diagnos- tic criteria                           | 76/80                       | ①⑧⑨                   |          7 |\n",
      "| Song, 2021 [40]  | Henan        | 2012.1-2020.7   | Case control | BW<2500 g, Bell Staging II-III                        | Revised Bell Subdivision peri- odical standard (1986)                                           | 166/166                     | ②⑱                    |          9 |\n",
      "| Zhang, 2019 [41] | Sichuan      | 2013.1-2016.12  | Case control | GA< 37weeks, BW1000 ~ 1 499 g                         | Practical Neonatology, 4th Revised Bell staging diagnos- tic criteria                           | 33/33                       | ①③⑩                   |          8 |\n",
      "| Lu, 2017 [42]    | Chongqing    | 2010.3-2015.3   | Case control | GA<37 weeks, BW<2500 g, Bell staging≥II               | Practical Neonatology, 4th Revised Bell staging /diag- nostic criteria                          | 66/132                      | ①②③⑨⑫                 |          9 |\n",
      "| Zhu, 2021 [43]   | Anhui        | 2015.5-2020.1   | Case control | BW≥1000 g, <1500 g, Bell staging≥II                   | Refer to Avery's diseases of the newborn the revised Bell marking criteria                      | 19/218                      | ①⑨⑳                   |          9 |\n",
      "| Huang, 2022 [44] | Chongqing    | 2008.1-2021.12  | Case control | small for GA infant, prema- turity, Bell stag- ing≥II | Reference to the Vermont Oxford Net- work's revised diagnostic crite- ria based on Bell staging | 140/280                     | ①⑨⑬⑱                  |          7 |\n",
      "| Liu, 2022 [11]   | Neimenggu    | 2015.1-2021.12  | Case control | GA<32weeks                                            | Reference Modification Bell Staging (1978)                                                      | 77/577                      | ①③⑮⑱                  |          8 |\n",
      "| Yang, 2022 [45]  | Beijing      | 2016.3-2020.6   | Case control | GA<37 weeks, BW<2500 g,                               | Reference Modification Bell Staging (1978)                                                      | 78/100                      | ①⑬                    |          8 |\n",
      "\n",
      "Zhao et al. BMC Pediatrics          (2024) 24:148\n",
      "\n",
      "Table 1 (continued)\n",
      "\n",
      "| Author, year      | Study area   | Study time     | Study type   | Study population                     | NEC diagnostic criteria                                                                                                  | Case group/ control group   | Influencing factors   |   NOSscore |\n",
      "|-------------------|--------------|----------------|--------------|--------------------------------------|--------------------------------------------------------------------------------------------------------------------------|-----------------------------|-----------------------|------------|\n",
      "| Yang, 2018 [46]   | Sichuan      | 2016.1-2016.12 | Case control | GA<37 weeks                          | Practical Neonatology, 4th, Revised Bell staging diagnos- tic criteria                                                   | 22/407                      | ⑧⑩⑬⑭                  |          7 |\n",
      "| Zhuang, 2007 [47] | Fujian       | 2002.1-2005.5  | Case control | GA<37 weeks                          | Refer to Avery's diseases of the newborn the revised Bell marking criteria                                               | 20/80                       | ①⑨⑭                   |          6 |\n",
      "| Li ,2020 [48]     | Jiangsu      | 2014.5-2018.12 | Case control | GA 32-37 weeks, BW<2500 g            | Reference to the U.S. Guidelines for the Man- agement of Necrotizing Small Bowel Colitis in Very Low Birth Mass Children | 57/30                       | ②③⑯                   |          7 |\n",
      "| Ma, 2021 [49]     | Zhejiang     | 2017.9-2020.6  | Case control | GA<34weeks, Bell stag- ing≥stage II  | Reference Modification Bell Staging (1978)                                                                               | 54/106                      | ⑥⑫                    |          6 |\n",
      "| Deng, 2017 [50]   | Sichuan      | 2014.1-2016.12 | Case control | GA<34weeks, Bell stag- ing≥stage II  | Practical Neonatology, 4th Revised Bell staging diagnos- tic criteria                                                    | 54/108                      | ①②③⑦⑬                 |          6 |\n",
      "| Zhu, 2020 [51]    | Hebei        | 2019.1-2019.9  | Case control | GA<37 weeks, BW<2500 g               | Practical Neonatology, 4th Revised Bell staging diagnos- tic criteria                                                    | 38/462                      | ①③④⑨⑩                 |          8 |\n",
      "| Wang, 2017 [52]   | Henan        | 2013.6-2016.6  | Case control | GA<37 weeks, BW<2500 g               | Practical Neonatology, 4th Revised Bell staging diagnos- tic criteria                                                    | 58/36                       | ①⑦⑨⑩                  |          7 |\n",
      "| Wang, 2020 [53]   | Henan        | 2010.1-2018.12 | Case control | GA<37 weeks, BW<2500 g               | Practical Neonatology, 4th Revised Bell staging diagnos- tic criteria                                                    | 30/34                       | ①④⑨⑩                  |          6 |\n",
      "| Zhang, 2017 [54]  | Guangdong    | 2013.1-2015.12 | Case control | GA<32 weeks                          | Reference Modification Bell Staging (1978)                                                                               | 61/376                      | ①③⑩⑳                  |          6 |\n",
      "| Chen, 2020 [55]   | Chongqing    | 2010.1-2016.10 | Cohort study | GA<34 weeks, Bell stag- ing≥stage II | Practical Neonatology, 4th Revised Bell staging diagnos- tic criteria                                                    | 30/150                      | ①⑲                    |          8 |\n",
      "| Tan, 2022 [56]    | Sichuan      | 2019.1-2021.6  | Cohort study | 1500 g<BW<2500 g                     | Practical Neonatology, 4th Revised Bell staging diagnos- tic criteria                                                    | 68/124                      | ①②⑩⑪                  |          9 |\n",
      "| Yu, 2023 [12]     | Hainan       | 2014.1-2021.12 | Case control | BW<1500 g, Bell staging≥stage II     | Reference Modification Bell Staging (1978)                                                                               | 62/62                       | ①⑯⑱                   |          9 |\n",
      "\n",
      "Table 1 (continued)\n",
      "\n",
      "| Author, year    | Study area   | Study time    | Study type   | Study population       | NEC diagnostic criteria                                               | Case group/ control group   | Influencing factors   |   NOSscore |\n",
      "|-----------------|--------------|---------------|--------------|------------------------|-----------------------------------------------------------------------|-----------------------------|-----------------------|------------|\n",
      "| Tain, 2023 [57] | Shandong     | 2017.4-2019.6 | Case control | GA<37 weeks, BW<1500 g | Practical Neonatology, 4th Revised Bell staging diagnos- tic criteria | 19/91                       | ①③⑨⑲                  |          7 |\n",
      "\n",
      "GA gestational age, BW birth weight, NEC necrotizing enterocolitis, NOS Newcastle-Ottawa Scale\n",
      "\n",
      "① Septicemia ② Blood transfusion ③ Neonatal asphyxia ④ Pneumonia ⑤ Infection occurs ⑥ Gestational diabetes ⑦ Respiratory distress syndrome ⑧ Mechanical ventilation ⑨ Oral probiotics ⑩ Breastfeeding ⑪ Congenital heart disease ⑫ Intrahepatic cholestasis of pregnancy ⑬ Prenatal application of glucocorticoids\n",
      "\n",
      "⑭ Intravenous immunoglobulin ⑮ Hypoalbuminemia ⑯ Patent ductus arteriosus ⑰ respiratory failure ⑱ Severe anemia ⑲ Meconium-stained amniotic fluid ⑳ History of antibiotic use\n",
      "\n",
      "Table 2 Heterogeneity test and meta-analysis results of NEC risk factors in premature infants\n",
      "\n",
      "| Research factors                        | Number of studies   | Heterogeneity test   | Heterogeneity test   | Heterogeneity test   | Effect model   | Pooled OR(95%CI)   | Pooled p value   |\n",
      "|-----------------------------------------|---------------------|----------------------|----------------------|----------------------|----------------|--------------------|------------------|\n",
      "|                                         | Number of studies   | Q                    | I 2 (%)              | P                    | Effect model   | Pooled OR(95%CI)   | Pooled p value   |\n",
      "| Septicemia                              | 25                  | 43.43                | 45                   | 0.009                | Fixed effect   | 3.91 (3.37, 4.55)  | <0.001           |\n",
      "| Blood transfusion                       | 13                  | 23.68                | 49                   | 0.02                 | Fixed effect   | 2.41 (1.97, 2.95)  | <0.001           |\n",
      "| Neonatal asphyxia                       | 14                  | 23.58                | 45                   | 0.04                 | Fixed effect   | 2.46 (2.07, 2.93)  | <0.001           |\n",
      "| Pneumonia                               | 6                   | 1.34                 | 0                    | 0.93                 | Fixed effect   | 6.17 (3.98, 9.57)  | <0.001           |\n",
      "| Infection occurs                        | 2                   | 1.43                 | 30                   | 0.23                 | Fixed effect   | 5.99 (2.57, 13.93) | <0.001           |\n",
      "| Oral probiotics                         | 17                  | 96.90                | 83                   | <0.001               | Random effect  | 0.36 (0.25, 0.53)  | <0.001           |\n",
      "| Breastfeeding                           | 13                  | 302.01               | 96                   | <0.001               | Random effect  | 0.31 (0.16, 0.62)  | <0.001           |\n",
      "| Congenital heart disease                | 3                   | 2.01                 | 1                    | 0.37                 | Fixed effect   | 4.80 (3.00, 7.68)  | <0.001           |\n",
      "| Intrahepatic cholestasis of pregnancy   | 4                   | 2.17                 | 0                    | 0.54                 | Fixed effect   | 2.71 (1.92, 3.82)  | <0.001           |\n",
      "| Mechanical ventilation                  | 4                   | 0.68                 | 0                    | 0.88                 | Fixed effect   | 1.44 (1.22, 1.71)  | <0.001           |\n",
      "| Gestational diabetes                    | 2                   | 0.06                 | 0                    | 0.80                 | Fixed effect   | 3.08 (1.73, 5.48)  | 0.0001           |\n",
      "| Respiratory distress syndrome           | 4                   | 1.24                 | 0                    | 0.74                 | Fixed effect   | 3.28 (2.23, 4.85)  | <0.001           |\n",
      "| Prenatal application of glucocorticoids | 5                   | 6.19                 | 35                   | 0.19                 | Fixed effect   | 0.38 (0.24, 0.60)  | <0.001           |\n",
      "| Intravenous Immunoglobulin              | 2                   | 5.46                 | 82                   | 0.02                 | Random effect  | 0.70 (0.10, 5.20)  | 0.73             |\n",
      "| Hypoalbuminemia                         | 2                   | 0.43                 | 0                    | 0.51                 | Fixed effect   | 2.80 (1.78, 4.41)  | <0.001           |\n",
      "| Patent ductus arteriosus                | 3                   | 0.28                 | 0                    | 0.87                 | Fixed effect   | 3.10 (1.93, 4.98)  | <0.001           |\n",
      "| respiratory failure                     | 2                   | 3.50                 | 71                   | 0.06                 | Random effect  | 7.51 (1.60, 35.10) | 0.01             |\n",
      "| Severe anemia                           | 4                   | 2.02                 | 0                    | 0.57                 | Fixed effect   | 2.86 (2.06, 3.99)  | <0.001           |\n",
      "| History of antibiotic use               | 2                   | 4.53                 | 78                   | 0.03                 | Random effect  | 2.12 (1.18, 3.81)  | 0.01             |\n",
      "| Meconium-stained amniotic fluid         | 2                   | 0.05                 | 0                    | 0.82                 | Fixed effect   | 3.14 (1.64, 6.01)  | <0.001           |\n",
      "\n",
      "Due  to  the  multitude  of  influential  factors  considered, forest plots for septicemia and oral probiotics are presented in this paper (Figs. 2 and 3). Forest plots of other influencing factors are provided in S Figs. 1-18.\n",
      "\n",
      "## Sensitivity analysis and publication bias\n",
      "\n",
      "Sensitivity analyses were performed by eliminating  each  study  individually,  and  the  remaining  articles were  recombined  for  meta-analysis.  Sensitivity  analyses revealed that the heterogeneity for studies with high heterogeneity,  including  oral  probiotics,  breastfeeding, respiratory failure, and history of antibiotic use, remained consistent  after  removing  any  individual  study,  suggesting  that  the  results  of  the  meta-analysis  were  relatively stable. The study by Tan et al. [56] had a large impact on the outcome of preterm heart disease and was the main source  of  heterogeneity.  Upon  excluding  this  study  and reanalyzing the results, a substantial reduction in heterogeneity was observed for the prevalence of heart disease (OR = 4.80,    I 2 = 1%).  For  the  influencing  factors  with  a statistically  significant  heterogeneity,  both  fixed-effects and  random-effects  were  used  to  combine  the  effect\n",
      "\n",
      "Fig. 2 Forest plot of septicemia as a risk factor analysis for NEC preterm infants. NEC: necrotizing enterocolitis; ES: Odds ratio (OR)\n",
      "\n",
      "The image presents a forest plot, a type of graphical representation used in meta-analyses to display the results of multiple studies and their combined effect.\n",
      "\n",
      "**Study Information**\n",
      "\n",
      "* The plot lists 25 studies on the left side, each identified by a unique ID (e.g., \"Zeng SY 2021\", \"Cheng SP 2016\", etc.)\n",
      "\n",
      "**Effect Size and Confidence Intervals**\n",
      "\n",
      "* The effect size (ES) and 95% confidence interval (CI) for each study are represented by a horizontal line with a square or diamond marker\n",
      "* The ES values range from 0.00806 to 124\n",
      "\n",
      "**Weight and Overall Effect**\n",
      "\n",
      "* The percentage weight of each study is shown in the rightmost column\n",
      "* The overall effect size and 95% CI are represented by a diamond marker at the bottom of the plot\n",
      "* The overall effect size is 3.91 (95% CI: 3.37, 4.55)\n",
      "\n",
      "**Heterogeneity**\n",
      "\n",
      "* The I-squared value is 44.7%, indicating moderate heterogeneity between studies\n",
      "* The p-value is 0.009, indicating statistical significance\n",
      "\n",
      "**Visual Representation**\n",
      "\n",
      "* The plot features a white background with black text and lines\n",
      "* The studies are listed in a table format, with the study ID, ES (95% CI), and % Weight columns\n",
      "* The plot provides a clear visual representation of the individual study results and their contribution to the overall effect size.\n",
      "\n",
      "<!-- image -->\n",
      "\n",
      "Fig. 3 Forest plot for analysis of oral probiotics as a protective factor for NEC preterm infants. NEC: necrotizing enterocolitis; ES: Odds ratio (OR)\n",
      "\n",
      "The image presents a forest plot, a graphical representation used in meta-analyses to display the results of multiple studies and their combined effect. The plot is divided into several sections:\n",
      "\n",
      "**Study Information**\n",
      "\n",
      "* A list of studies on the left side, each identified by a unique ID (e.g., \"Cheng SP 2016\")\n",
      "\n",
      "**Effect Size and Confidence Intervals**\n",
      "\n",
      "* Each study is represented by a horizontal line indicating its effect size (ES) and 95% confidence interval (CI)\n",
      "* The effect size is marked with a black dot, and the CI is represented by a horizontal line extending from the dot\n",
      "\n",
      "**Weight and Percentage**\n",
      "\n",
      "* The right side of the plot displays the weight and percentage for each study\n",
      "\n",
      "**Overall Effect**\n",
      "\n",
      "* The overall effect size and 95% CI are represented by a diamond shape at the bottom of the plot\n",
      "* The overall effect size is 0.36, with a 95% CI of 0.25 to 0.53\n",
      "\n",
      "**Additional Information**\n",
      "\n",
      "* The I-squared value is 83.5%, indicating moderate to high heterogeneity between studies\n",
      "* The p-value is 0.000, indicating statistical significance\n",
      "\n",
      "**Visual Representation**\n",
      "\n",
      "* The plot features a red vertical line at 1, representing the null effect size\n",
      "* Studies with effect sizes greater than 1 are considered to have a positive effect, while those with effect sizes less than 1 are considered to have a negative effect\n",
      "\n",
      "Overall, the forest plot provides a clear visual representation of the individual study results and the overall effect size, allowing for easy comparison and interpretation of the data.\n",
      "\n",
      "<!-- image -->\n",
      "\n",
      "sizes. The results demonstrated a high degree of consistency between the calculations of the two models, affirming the reliability of this study outcomes.\n",
      "\n",
      "Sepsis,  blood  transfusion,  oral  probiotics,  and  breastfeeding, which are the influencing factors involved in ≥ 10  publications,  were  separately  funnel  plotted. The  results  indicated  asymmetry  in  the  funnel  plots  (S Figs. 19-22). Egger's and Begg's test revealed publication bias ( P &lt;  0.05) for blood transfusion, oral probiotics, ICP, and mechanical ventilation (Table 3). Therefore, caution should be taken about the accuracy of the results.\n",
      "\n",
      "## Discussion\n",
      "\n",
      "To our knowledge, this is the first meta-analysis of factors influencing NEC in preterm infants in China to obtain an updated and thorough quantitative analysis. NEC has a rapid onset and progression of disease, with a high morbidity and mortality rate, and is one of the most important factors contributing to preterm infant mortality [64]. Exploring the protective and risk factors for NEC in preterm infants is important for prevention and developing effective interventions to reduce its incidence.\n",
      "\n",
      "## Risk factors for NEC\n",
      "\n",
      "This meta-analysis showed that MSAF, history of antibiotic use and preterm infection were risk factors for NEC in  preterm  infants.  Chen  et  al.  [45,  54,  63]  also  found\n",
      "\n",
      "Table 3 Sensitivity analysis and publication bias test\n",
      "\n",
      "| Influencing factors                     | Sensitivity analysis         | Sensitivity analysis          | Egger , s test   | Egger , s test   |\n",
      "|-----------------------------------------|------------------------------|-------------------------------|------------------|------------------|\n",
      "|                                         | Fixed effect model OR(95%CI) | Random effect model OR(95%CI) | t value          | P value          |\n",
      "| Septicemia                              | 3.91 (3.37, 4.55)            | 4.26 (3.41, 5.32)             | 2.52             | 0.019            |\n",
      "| Blood transfusion                       | 2.41 (1.97, 2.95)            | 2.79 (2.04, 3.83)             | 2.56             | 0.027            |\n",
      "| Neonatal asphyxia                       | 2.46 (2.07, 2.93)            | 2.81 (2.16, 3.67)             | 0.33             | 0.750            |\n",
      "| Pneumonia                               | 6.17 (3.98, 9.57)            | 6.17 (3.98, 9.57)             | -2.04            | 0.111            |\n",
      "| Infection occurs                        | 5.99 (2.57, 9.74)            | 6.71 (2.14, 21.00)            | -                | -                |\n",
      "| Oral probiotics                         | 0.70 (0.64, 0.77)            | 0.36 (0.25, 0.53)             | -4.07            | 0.001            |\n",
      "| Breastfeeding                           | 0.49 (0.45, 0.55)            | 0.31 (0.16, 0.62)             | -0.74            | 0.477            |\n",
      "| Congenital heart disease                | 4.80 (3.00, 7.68)            | 4.80 (2.99, 7.70)             | 0.04             | 0.974            |\n",
      "| Intrahepatic cholestasis of pregnancy   | 2.71 (1.92, 3.82)            | 2.71 (1.92, 3.82)             | 6.05             | 0.026            |\n",
      "| Mechanical ventilation                  | 1.44 (1.22, 1.71)            | 1.44 (1.22, 1.71)             | 16.57            | 0.004            |\n",
      "| Gestational diabetes                    | 3.08 (1.73, 5.48)            | 3.08 (1.73, 5.48)             | -                | -                |\n",
      "| Respiratory distress syndrome           | 3.28 (2.23, 4.85)            | 3.28 (2.23, 4.85)             | 0.60             | 0.611            |\n",
      "| Prenatal application of glucocorticoids | 0.38 (0.24, 0.60)            | 0.35 (0.20, 0.63)             | -2.10            | 0.126            |\n",
      "| Hypoalbuminemia                         | 2.80 (1.78, 4.41)            | 2.80 (1.78, 4.41)             | -                | -                |\n",
      "| Patent ductus arteriosus                | 3.10 (1.93, 4.98)            | 3.10 (1.93, 4.98)             | 1.4              | 0.394            |\n",
      "| respiratory failure                     | 6.48 (2.92, 14.41)           | 7.51 (1.60, 35.10)            | -                | -                |\n",
      "| Severe anemia                           | 2.86 (2.06, 3.99)            | 2.86 (2.06, 3.99)             | 2.07             | 0.175            |\n",
      "| History of antibiotic use               | 2.07 (1.57, 2.72)            | 2.12 (1.18, 3.81)             | -                | -                |\n",
      "| Meconium-stained amniotic fluid         | 3.14 (1.64, 6.01)            | 3.14 (1.64, 6.01)             | -                | -                |\n",
      "\n",
      "that  MSAF  was  an  independent  risk  factor  for  NEC  in preterm  infants.  The  inhalation  of  amniotic  fluid  contaminated  with  meconium  in  utero  in  preterm  infants can lead to the multiplication of intestinal pathogens and early  infection  [65].  In  addition,  due  to  the  underdevelopment of the gastrointestinal tract, the imperfect barrier function  of  the  intestinal  mucosa,  and  the  high  permeability  of  the  intestinal  wall  in  preterm  infants,  bacteria can easily enter the intestinal tract and cause infections. The application  of  antibiotics  affects  the  distribution  of intestinal  flora,  leading  to  an  increase  in  bacteria  with potential  therapeutic  effects  and  a  decrease  in  normal flora,  which  can  damage  the  intestinal  mucosal  epithelium and lead to NEC [66]. The use of empirical antibiotics  and  the  duration  of  antibiotic  exposure  in  infants are  associated  with  an  increased  risk  of  NEC  [67].  In  a meta-analysis  of  observational  studies  and  randomized controlled  trials,  prophylactic  antibiotic  use  in  infants was  not  found  to  be  statistically  associated  with  NEC, but with an increased risk [68]. These factors influencing NEC are independent of each other while also influencing and interacting with one other. We also found sepsis to  be  a  risk  factor  for  NEC  in  preterm  infants,  consistent with the findings of Gagliardi et al. [69]. Comparing domestic  and  international  studies  on  sepsis  and  NEC, we found that the OR values of sepsis for NEC reported abroad were mostly above 10 [70], while the OR values\n",
      "\n",
      "reported in China were mostly 3 to 5 [71], and the OR value of our study was 3.91. The fact that there are such obvious differences in such a strong risk factor as sepsis suggests  that  we  should  be  cautious  in  interpreting  the results of epidemiologic studies and medical statistics.\n",
      "\n",
      "There is controversy surrounding whether blood transfusion in preterm infants contributes to an increased incidence of NEC. The present meta-analysis showed that blood transfusion is a risk factor for complications  of  NEC  in  preterm  infants,  while  a  recent meta-analysis showed that red blood cell (RBC) transfusion does not increase the risk of NEC [72]. Blood transfusions,  especially  large  amounts  of  RBC,  can  cause impaired  regulation  of  the  mesenteric  vessels,  leading to increased adhesion and aggregation of RBC and formation of thrombi, resulting in poor blood flow to the intestine  [73].  Whereas,  a  meta-analysis  conducted  by Rai  et  al.  [74]  demonstrated  that  erythrocyte  infusion within 48 h exerted a protective effect on infants with NEC.  Erythropoietin  may  have  a  protective  effect  on the  endothelial  cell  barrier  and  therefore  may  attenuate the development of NEC. This study also found that severe anemia in preterm infants was associated with an increased risk of developing NEC [75]. Analysis of the reasons for this may be related to the fact that anemia decreases  the  expression  of  the  tight  junction  protein ZO-1, increases  the  permeability  of  the  intestinal  barrier,  increases  intestinal  inflammation  by  altering  the function of macrophages,  and  predisposes patients to  NEC.  Patel  et  al.  [75]  reported  that  severe  anemia, rather  than  RBC  transfusion,  was  associated  with  an elevated risk of NEC and suggested that prevention of anemia  may  be  more  beneficial  than  minimizing  RBC transfusions.\n",
      "\n",
      "In this study, RDS, respiratory failure, neonatal asphyxia,  and  mechanical  ventilation  were  all  risk  factors  for  NEC  in  preterm  infants.  Preterm  combined VLBW  infants  are  highly  susceptible  to  asphyxia  after birth due to their underdeveloped respiratory and neurological systems and their inability to perform effective gas exchange  on  their  own.  Infant  asphyxia  can  induce  the body's  defense  reflex  and  redistribute  the  blood  flow  in the body to ensure the oxygen supply to the heart, brain, kidneys  and  other  important  organs,  triggering  strong constriction  of  mesenteric  vessels,  leading  to  ischemia and hypoxia of intestinal epithelial cells and even degeneration  and  necrosis,  resulting  in  NEC  [76].  Neonates with  severe  asphyxia  often  require  mechanical  ventilation, which was shown to be an independent risk factor for NEC in this study, and this is in agreement with the finding by Gagliardi et al. [69]. However, in a Canadian study, mechanical ventilation was shown to be a risk factor for NEC only in sicker infants [77].\n",
      "\n",
      "This meta-analysis confirms that PDA, congenital heart disease, hypoproteinemia, and pneumonia are all risk factors for NEC in preterm infants. Preterm birth in combination  with  PDA  and  congenital  heart  disease  causes inadequate intestinal blood flow, which induces immune responses,  inflammatory  mediators,  and  consequently intestinal  mucosal  injury  and  necrosis,  leading  to  NEC [78].  At  present,  it  is  difficult  to  determine  whether  the presence of PDA or treatment with PDA alters the risk of NEC in infants. In a cohort of infants with PDA aged &lt; 34 weeks, infants with PDA who were not treated with indomethacin had an increased risk of NEC compared with those who were treated [79]. However, in a recent metaanalysis of randomized controlled trials [80], it was found that there was no increased risk of NEC in the absence of PDA treatment.\n",
      "\n",
      "In this study, maternal ICP and GDM were also found to  be  risk  factors  for  NEC  in  preterm  infants,  which  is consistent with the meta-analysis of Lu et al. [16]. Beghetti  et  al.  [81]  concluded  that  high  concentrations of bile acids lead to enhanced contraction of placental villi veins exposed  to  amniotic  fluid,  reduced  blood  supply,  and impaired  intestinal  microcirculation,  resulting  in  intestinal mucosal ischemia and hypoxia and the production of  multiple  free  radicals,  forming  the  pathological  basis for NEC. In GDM patients, the body is in a hyperglycemic state, and the fetus receives nutrients directly from the mother, which can affect the state of intestinal blood flow, lead to intestinal mucosal damage and induce NEC [30].  In  this  study,  the  pooled  OR  of  ICP  for  NEC  was 2.71 with four studies included; the pooled OR for GDM and NEC was 3.08 with only two included studies. Currently, there are fewer studies exploring the relationship between NEC and ICP, GDM, thus caution needs to be taken when making conclusion for the impact of GDM, ICP on NEC based on the observation in this study.\n",
      "\n",
      "## Protect factors for NEC\n",
      "\n",
      "The  safety  of  oral  probiotics  in  preterm  infants  is  currently  controversial,  and  it  is  believed  that  the  optimal strain,  optimal  dose  and  duration  of  probiotics  for  the prevention of NEC have not been determined [82]. Our study  found  that  probiotics  reduced  the  risk  of  NEC, which is consistent with previously published meta-analysis  [83].  Prophylactic  supplementation  with  probiotics increases the deposition and growth of normal flora, enhances  the  barrier  function  of  the  intestinal  mucosa, prevents  the  migration  of  bacteria  or  curative  factors, and  activates  protective  receptors  to  balance  the  intestinal  flora  [84].  The  2020  European  Society  of  Pediatric Gastroenterology and Hepatology and Nutrition recommends that probiotics such as Bifidobacterium bifidum,\n",
      "\n",
      "when safe  to  do  so,  can  be  given  to  preterm  infants  to reduce the risk of NEC in preterm infants [85]. A multicenter  randomized  controlled  study  found  that  early administration  of  Bifidobacterium  bifidum  (BBG-001) did not reduce the risk of NEC in preterm infants [86]. The use of probiotics for the prevention of NEC in preterm  infants  is  controversial  and  further  studies  are needed to demonstrate the effect.\n",
      "\n",
      "In  this  meta-analysis,  prenatal  application  of  glucocorticoids  was  a  protective  factor  for  NEC  in  preterm infants,  which  is  consistent  with  the  results  of  a  previous  meta-analysis  [17].  A  Cochrane  systematic  evaluation  documented  that  antenatal  glucocorticoid  use  in women  at  risk  of  preterm  labor  reduced  the  incidence of  RDS  in  preterm  infants  and  also  reduced  the  risk  of NEC  [87].  It  was  found  that  the  proinflammatory  factors  interleukin-1β  and  interleukin-8  play  an  important role  in  the  pathogenesis  of  NEC,  and  glucocorticoids significantly inhibit the proinflammatory effects of both and promote the maturation of the gastrointestinal tract while reducing the absorption of macromolecules by the intestinal  mucosa  and  avoiding  intestinal  necrosis  [88]. The  clinical  guidelines  for  the  management  of  neonatal necrotizing  small  bowel  colitis,  published  in  China  in 2020, recommend that glucocorticoids should be applied prenatally in mothers at risk of preterm delivery [89].\n",
      "\n",
      "Breastfeeding  has  been  shown  to  reduce  the  risk  of NEC. In this study, breastfeeding was a protective factor for NEC in preterm infants, and a review by Nolan et al. [90]  indicated  that  immune  components  in  breast  milk have a protective effect against NEC. A prospective study found that breastfeeding reduced the risk of NEC in preterm infants compared with formula feeding [91]. Breast milk,  with  its  lower  osmolality  compared  to  formula, alleviates  the  osmotic  load  of  food,  relieving  intestinal pressure. In addition, breast milk is rich in secretory IgA, lactoferrin  and  other  antimicrobial  active  substances, which  enhance  the  body's  immune  defense  and  effectively prevent the occurrence of infectious diseases of the gastrointestinal tract [92].\n",
      "\n",
      "## Limitations\n",
      "\n",
      "Our study had several limitations. First, we only included published literature, and potential publication bias should not be ignored. Second, the quality of the included articles was limited and the heterogeneity among studies was high, and we need to be cautious in interpreting the findings. We only included NEC premature infants hospitalized  in  neonatal  intensive  care  units  (NICUs)  in  China, and  there  was  some  bias  in  the  selection  of  the  study population and region, which may limit the generalizability of the findings. In addition, this study also found that cesarean  section  and  the  use  of  pulmonary  surfactant are protective factors against NEC in premature infants, but due to the limited number of included studies, metaanalysis  was  not  performed  on  these  factors.  Although this  study  only  analyzed  the  factors  influencing  NEC in Chinese preterm infants, it may provide a valuable foundation for future research and interventions to enhance infants' health related to NEC.\n",
      "\n",
      "## Conclusion\n",
      "\n",
      "In  summary,  our  study  suggests  that  septicemia,  blood transfusion,  neonatal  asphyxia,  pneumonia,  infection, congenital heart disease, ICP, GDM, RDS, hypoproteinemia,  PDA,  respiratory  failure,  severe  anemia,  antibiotic use  history  and  MSAF  are  risk  factors  for  NEC  in  premature  infants  in  China.  Breastfeeding,  oral  probiotics and prenatal use of glucocorticoids are protective factors. This  is  the  first  meta-analysis  of  the  factors  influencing NEC in preterm infants in China, further expanding our knowledge in this subject area.\n",
      "\n",
      "## Abbreviations\n",
      "\n",
      "| ANS     | Antenatal steroid                                                  |\n",
      "|---------|--------------------------------------------------------------------|\n",
      "| CI      | Confidence interval                                                |\n",
      "| CNKI    | China National Knowledge Infrastructure                            |\n",
      "| CBM     | China Biomedical Literature Database                               |\n",
      "| IVIG    | Intravenous Immunoglobulin                                         |\n",
      "| ICP     | Intrahepatic cholestasis of pregnancy                              |\n",
      "| MSAF    | Meconium-stained amniotic fluid                                    |\n",
      "| NEC     | Necrotizing enterocolitis                                          |\n",
      "| NOS     | Newcastle-Ottawa Scale                                             |\n",
      "| NICU    | Neonatal intensive care unit                                       |\n",
      "| OR      | Odds ratio                                                         |\n",
      "| PDA     | Patent ductus arteriosus                                           |\n",
      "| RDS     | Respiratory distress syndrome                                      |\n",
      "| GDM     | Gestational diabetes mellitus                                      |\n",
      "| PRISMA  | Preferred Reporting Items for Systematic Reviews and Meta-Analyses |\n",
      "| AMSTAR2 | A Measurement Tool to Assess Systematic Reviews 2                  |\n",
      "| VLBW    | Very low birth weight                                              |\n",
      "| WHO     | World health organization                                          |\n",
      "| GA      | Gestational age                                                    |\n",
      "| BW      | Birth weight                                                       |\n",
      "\n",
      "## Supplementary Information\n",
      "\n",
      "The online version contains supplementary material available at https://  doi. org/  10.  1186/  s12887-  024-  04607-3.\n",
      "\n",
      "## Additional file 1.\n",
      "\n",
      "Additional file 2: Supplementary Information Table 2. Text database search criteria.\n",
      "\n",
      "Additional file 3. AMSTAR 2: a critical appraisal tool for systematic reviews that include randomised or non- randomised studies of healthcare interventions, or both\n",
      "\n",
      "Additional file 4: Table S3. Assessment of methodological quality by NOS.\n",
      "\n",
      "Additional file 5: S figure1. Forest plot of the analysis regarding blood transfusion as a risk factor for NEC preterm infants. S figure2. Forest plot of the analysis regarding neonatal asphyxia as a risk factor for NEC\n",
      "\n",
      "Zhao et al. BMC Pediatrics          (2024) 24:148\n",
      "\n",
      "preterm infants. S figure 3. Forest plot of the analysis regarding pneumonia as a risk factor for NEC preterm infants. S figure 4. Forest plot of the analysis regarding infection occurs as a risk factor for NEC preterm infants. S figure 5. Forest plot of the analysis regarding breastfeeding as a protective factor for NEC preterm infants. S figure 6. Forest plot of the analysis regarding congenital heart disease as a risk factor for NEC preterm infants. S figure 7. Forest plot of the analysis regarding meconium-stained amniotic fluid as a risk factor for NEC preterm infants. S figure 8. Forest plot of the analysis regarding mechanical ventilation as a risk factor for NEC preterm infants. S figure 9. Forest plot of the analysis regarding gestational diabetes mellitus as a risk factor for NEC preterm infants. S figure 10. Forest plot of the analysis regarding respiratory distress syndrome as a risk factor for NEC preterm infants. S figure 11. Forest plot of the analysis regarding prenatal application of glucocorticoids as a protective factor for NEC preterm infants. S figure 12. Forest plot depicting the analysis of intravenous immunoglobulin as a non-influencing factor for NEC preterm infants. S figure 13. Forest plot of the analysis regarding hypoalbuminemia as a risk factor for NEC preterm infants. S figure 14. Forest plot of the analysis regarding patent ductus arteriosus as a risk factor for NEC preterm infants. S figure 15. Forest plot of the analysis regarding respiratory failure as a risk factor for NEC preterm infants. S figure 16. Forest plot of the analysis regarding severe anemia as a risk factor for NEC preterm infants. S figure 17. Forest plot of the analysis regarding history of antibiotic use as a risk factor for NEC preterm infants. S figure 18. Forest plot of the analysis regarding intrahepatic cholestasis of pregnancy as a risk factor for NEC preterm infants. Funnel plot of oral probiot-\n",
      "\n",
      "Additional file 6: S figure19. Funnel plot of breastfeeding. S figure20. Funnel plot of blood transfusion. S figure21. ics. S figure22. Funnel plot of septicemia.\n",
      "\n",
      "## Acknowledgements\n",
      "\n",
      "Not applicable.\n",
      "\n",
      "## Authors' contributions\n",
      "\n",
      "SZ, HJ and YM conceptualized and designed the study, drafted the initial manuscript, reviewed and revised the manuscript; SZ, YM, WL and YL designed the collection instruments and collected data; HJ, HL performed quality assessment; SZ and YM performed the statistical analysis and participated in its design; AW, YZ and XC coordinated and supervised data collection, and critically reviewed the manuscript for important intellectual content. All authors reviewed the manuscript.\n",
      "\n",
      "## Funding\n",
      "\n",
      "No funding was received for this study.\n",
      "\n",
      "## Availability of data and materials\n",
      "\n",
      "The datasets used and/or analyzed during the current study are available from the corresponding author on reasonable request.\n",
      "\n",
      "## Declarations\n",
      "\n",
      "## Ethics approval and consent to participate\n",
      "\n",
      "Ethics approval for this study was not required.\n",
      "\n",
      "## Consent for publication\n",
      "\n",
      "Not applicable.\n",
      "\n",
      "## Competing interests\n",
      "\n",
      "The authors declare no competing interests.\n",
      "\n",
      "## Author details\n",
      "\n",
      "1 School of Nursing, Shandong Second Medical University, Weifang 261053, China. 2 Nursing Department Affiliated Hospital of Shandong Second Medical University, Weifang 261031, China. 3 School of Nursing, Capital Medical University, Beijing 100071, China. 4 Xiangya School of Nursing, Central South University, Changsha 410000, China.\n",
      "\n",
      "Received: 2 August 2023   Accepted: 31 January 2024\n",
      "\n",
      "## References\n",
      "\n",
      "1. Neu J, Walker W. Medical progress: necrotizing enterocolitis. N Engl J Med. 2011;364:255-64.\n",
      "2. Hull MA, Fisher JG, Gutierrez IM, Jones BA, Kang KH, Kenny M, et al. Mortality and management of surgical necrotizing enterocolitis in very low birth weight neonates: a prospective cohort study. J Am Coll Surg. 2014;218(6):1148-55.\n",
      "3. Miller RJ, Sullivan MC, Hawes K, Marks AK. The effects of perinatal morbidity and environmental factors on health status of preterm children at age 12. J Pediatr Nurs. 2009;24(2):101-14.\n",
      "4. Fitzgibbons SC, Ching Y, Yu D, Carpenter J, Kenny M, Weldon C, et al. Mortality of necrotizing enterocolitis expressed by birth weight categories. J Pediatr Surg. 2009;44(6):1072-5. discussion 1075-1076.\n",
      "5. Kong X, Xu F, Wu R, Wu H, Ju R, Zhao X, Tong X, Lv H, Ding Y, Liu F, et al. Neonatal mortality and morbidity among infants between 24 to 31 complete weeks: a multicenter survey in China from 2013 to 2014. BMC Pediatr. 2016;16(1):174.\n",
      "6. Jiang S, Yan W, Li S, Zhang L, Zhang Y, Shah PS, Shah V, Lee SK, Yang Y, Cao Y. Mortality and morbidity in infants &lt; 34 weeks' Gestation in 25 NICUs in China: a prospective cohort study. Front Pediatr. 2020;8:33.\n",
      "7. Cao X, Zhang L, Jiang S, Li M, Yan C, Shen C, Yang Y, Lee SK, Cao Y. Epidemiology of necrotizing enterocolitis in preterm infants in China: a multicenter cohort study from 2015 to 2018. J Pediatr Surg. 2022;57(3):382-6.\n",
      "\n",
      "8.\n",
      "\n",
      "Jones IH, Hall NJ. Contemporary Outcomes for Infants with necrotizing\n",
      "\n",
      "Enterocolitis-A systematic review. J Pediatr. 2020;220:86-92e83.\n",
      "\n",
      "9. Ellsbury DL, Clark RH, Ursprung R, Handler DL, Dodd ED, Spitzer AR. A Multifaceted Approach to improving outcomes in the NICU: the Pediatrix 100 000 babies campaign. Pediatrics. 2016;137(4):e20150389.\n",
      "10. Dong HM, Song J, Wang Y, Zhang XL, Jue ZZ, Wei LL. Clinical characteristics and risk factors for necrotizing small intestinal colitis in extremely premature infants. Chin J Child Health Care. 2021;29(09):1012-6.\n",
      "11. Liu X, Liu LJ, Jiang HY, Zhao CL, He HY. Establishment of a line graph model for predicting the risk of necrotizing small bowel colitis in very preterm infants. Chin J Contemp Pediatr. 2022;24(07):778-85.\n",
      "12. Yu ZY, Xu SJ, Sun HQ, Li MC, Xing S, Cheng P, et al. Clinical characteristics and risk factors of premature necrotizing small bowel colitis in extremely/ultra-low birth weight preterm infants. Chin J Contemp Pediatr. 2023;25(02):147-52.\n",
      "13. Campos-Martinez AM, Expósito-Herrera J, Gonzalez-Bolívar M, Fernández-Marin E, Uberos J. Evaluation of risk and preventive factors for necrotizing enterocolitis in premature newborns. A systematic review of the literature. Front Pediatr. 2022;10:874976.\n",
      "14. Rose AT, Patel RM. A critical analysis of risk factors for necrotizing enterocolitis. Semin Fetal Neonatal Med. 2018;23(6):374-9.\n",
      "15. Chen D, Huang XL, Li X. Meta-analysis of risk factors for necrotizing small bowel colitis in newborns. Chin J Clin Phys (Electronic Edition). 2010;4(05):563-7.\n",
      "16. Lu CY, Liu KF, Qiao GX, Luo Y, Cheng HQ, Du SZ. Meta-analysis of risk factors for necrotizing small bowel colitis in preterm infants. Chin J Contemp Pediatr. 2022;24(08):908-16.\n",
      "17. Su Y, Xu RH, Guo LY, Chen XQ, Han WX, Ma JJ, et al. Risk factors for necrotizing enterocolitis in neonates: a meta-analysis. Front Pediatr. 2022;10:1079894.\n",
      "18. Gephart SM, Effken JA, McGrath JM, Reed PG. Expert consensus building using e-Delphi for necrotizing enterocolitis risk assessment. Journal of obstetric, gynecologic, and neonatal nursing. JOGNN. 2013;42(3):332-47.\n",
      "19. Page MJ, McKenzie JE, Bossuyt PM, Boutron I, Hoffmann TC, Mulrow CD, Shamseer L, Tetzlaff JM, Akl EA, Brennan SE, et al. The PRISMA 2020 statement: an updated guideline for reporting systematic reviews. BMJ (Clinical Res ed). 2021;372:n71.\n",
      "20. Bell MJ, Ternberg JL, Feigin RD, Keating JP , Marshall R, Barton L, Brotherton T. Neonatal necrotizing enterocolitis. Therapeutic decisions based upon clinical staging. Ann Surg. 1978;187(1):1-7.\n",
      "\n",
      "21. Wells G, Shea B, O'Connell J. The Newcastle-Ottawa Scale (NOS) for assessing the quality of Nonrandomised studies in Meta-analyses. Ottawa Health Research Institute Web site; 2014. p. 7.\n",
      "22. Shea BJ, Reeves BC, Wells G, Thuku M, Hamel C, Moran J, Moher D, Tugwell P, Welch V, Kristjansson E, et al. AMSTAR 2: a critical appraisal tool for systematic reviews that include randomised or non-randomised studies of healthcare interventions, or both. BMJ (Clinical Res ed. 2017;358:j4008.\n",
      "23. Cheng SP, Lu Q, Zhou M, Yu JL. A case-control study on risk factors for necrotizing enterocolitis in premature infants with gestational age less than 34 weeks. Chin J Evidence- Based Pediatr. 2016;11(02):122-5.\n",
      "24. Zeng SY, Deng C. Analysis of risk factors for necrotizing small bowel colitis in very low birth weight children. J Chongqing Med Univ. 2021;46(03):335-40.\n",
      "25. Liu YC. Risk factor analysis of low and very low birth weight neonates with necrotizing small bowel colitis in a hospital from 2012-2018. J Practical Med. 2019;36(11):985-8.\n",
      "26. Shang Y, Yang J. Clinical analysis of risk factors for the development of necrotizing small bowel colitis in preterm infants. Jilin Med. 2014;35(31):6920-2.\n",
      "27. Sun HX, Gao RR, Zheng JF, Sun LS, Liu W, Wang XJ, Zhong YQ, Zhang LM. Clinical analysis of risk factors for necrotizing small bowel colitis in premature infants. J Weifang Med Univ. 2017;39(01):60-2.\n",
      "28. Lu Y, Pan S. Analysis of risk factors for necrotizing small bowel colitis in preterm infants. Chin Mod Phys. 2022;60(02):60-3.\n",
      "29. Wang YP, Zheng MY, Xiao YY, Qu YM, Wu H. Analysis of factors influencing necrotizing small intestinal colitis in preterm infants and construction of a predictive model for its development. Chin J Contemp Pediatr. 2022;24(01):41-8.\n",
      "30. Li XH. Analysis of clinical characteristics and influencing factors of necrotizing small bowel colitis in preterm infants. China Matern Child Health Care. 2019;34(24):5673-5.\n",
      "31. Lu H, Zhou HY, He YB. Analysis of risk factors for necrotizing small bowel colitis in premature neonates. Youjiang Med. 2018;46(01):79-82.\n",
      "32. Lu XY, Tan W. Clinical analysis of factors affecting 54 cases of necrotizing small bowel colitis in premature infants. Jiangxi Med. 2013;48(07):610-2.\n",
      "33. Lu M, Liu DL, Lu YD, Li YB. A retrospective analysis of factors influencing necrotizing small bowel colitis in preterm infants. Chin Maternal Child Health Care. 2015;30(15):2397-400.\n",
      "34. Qu XL, Zhang SE, Fang Y, Wan GB. Analysis of clinical characteristics and risk factors for preterm infants with necrotizing small bowel colitis. China Maternal Child Health Res. 2018;29(08):995-9.\n",
      "35. Shi Y. Analysis of factors influencing necrotizing small bowel colitis in preterm infants. Mod Diagnosis Therapy. 2019;30(19):3416-8.\n",
      "36. Wang RJ, Kong XY, Cai N, Cheng Y, Feng ZC. A case-control study of perinatal high-risk factors for necrotizing small bowel colitis in preterm infants. Chin J Contemp Pediatr. 2014;16(04):414-7.\n",
      "37. Yu M, Xu H, Lu YJ, Zhu ZF, Shi BZ. Analysis of factors influencing necrotizing small bowel colitis and surgical efficacy in low birth mass children. Anhui Med. 2018;22(10):1949-52.\n",
      "38. Zhu MY, Gu MZ. Analysis of the incidence and risk factors of necrotizing small bowel colitis in very low birth weight infants. Chin J Neonatology. 2012;27(2):78-81.\n",
      "39. Hou AN, Li X, Fu JH. Analysis of high-risk factors in 76 cases of neonatal necrotizing small bowel colitis. Chin J Practical Pediatr. 2017;32(8):611-4.\n",
      "40. Song J, Dong H, Xu F, Wang Y, Li W, Jue Z, Wei L, Yue Y, Zhu C. The association of severe anemia, red blood cell transfusion and necrotizing enterocolitis in neonates. PLoS One. 2021;16(7):e0254810.\n",
      "41. Zhang LP, Lei XP , Luo LJ, Dong WB. Risk factors for necrotizing enterocolitis in very preterm infants: a case-control study in southwest China. J Maternal Fetal Neonatal Med. 2019;32(6):896-901.\n",
      "42. Lu Q, Cheng S, Zhou M, Yu J. Risk factors for necrotizing enterocolitis in neonates: a retrospective case-control study. Pediatr Neonatol. 2017;58(2):165-70.\n",
      "43. Zhu K, Li-ping Y, Gao H, Wang X, Wang J, Wang L, Deng F. The role of probiotics prophylaxis duration in preventing necrotizing enterocolitis: a single-center retrospective study. Iran J Pediatr. 2021, In Press.\n",
      "44. Huang D, Jiang YJ, Zhang ZY, Li LQ. Risk factors for the development of necrotizing small bowel colitis in children younger than fetal age. J Clin Pediatr. 2022;40:661-5678.\n",
      "45. Yang J, Liu E, Yang L. Clinical characterization of necrotizing small bowel colitis in 78 neonates. J Mol Diagn Ther. 2022;14(02):309-311 + 316.\n",
      "46. Yang LR, Li H, Zhang T, Zhao RC. Correlation between vitamin D deficiency and necrotizing small bowel colitis in preterm infants. Chin J Contemp Pediatr. 2018, 20(03):178-83.\n",
      "47. Zhuang XY, Li LQ, Gao XX, Su LD. Etiology of necrotizing small bowel colitis in preterm infants and the preventive effect of microecological agents. Clin J Pract Pediatr. 2007(18):1392-3.\n",
      "48. Li ZT, Xu N, Li H, Qiao LX, Qian LJ. Characteristics of the pathogens of necrotizing small bowel colitis in preterm infants in Nanjing and the effect of probiotic intervention and prognostic factors. Chin J Microecol. 2020;32(07):789-93.\n",
      "49. Ma SJ, Zheng TT. Correlation between maternal risk factors and necrotizing small bowel colitis in preterm infants during preconception and early pregnancy. World J Chin Gastroenterol. 2021;29(10):557-62.\n",
      "50. Deng X. Analysis of risk factors for necrotizing small bowel colitis in preterm infants. Chin Comm Phys. 2017;33(29):35-6.\n",
      "51. Zhu JL, Zhu XG, Ma LY, Zhou LX, Duan CS. Analysis of factors associated with necrotizing small bowel colitis in neonates and preventive measures. Chin J Prev Med. 2020;21(09):990-4.\n",
      "52. Wang XQ, Li ZB, Lian J. A case-control study of risk factors for necrotizing small bowel colitis in preterm infants. Zhongguo Nguo Kang Med. 2017;29(14):65-7.\n",
      "53. Wang P P, Huang N N, Wang GZ, Yu FQ. Analysis of high-risk influencing factors and response to necrotizing small bowel colitis in preterm infants. Clin Res. 2020;28(09):23-4.\n",
      "54. Zhang L, Xu YL, Li MX. Analysis of risk factors for necrotizing small bowel colitis in preterm very low birth weight infants. China Matern Child Health Care. 2017;32(15):3515-17.\n",
      "55. Chen S, Wang XQ, Hu XY, Guo L, He Y, Wang ZL, et al. Meconium-stained amniotic fluid as a risk factor for necrotizing enterocolitis in very low-birth weight preterm infants: a retrospective cohort study. J Matern Fetal Neonatal Med. 2020;33(24):4102-7.\n",
      "56. Tan X, Zhou Y, Xu L, Zhang L, Wang J, Yang W. The predictors of necrotizing enterocolitis in newborns with low birth weight: A retrospective analysis. Medicine. 2022;101(7):e28789.\n",
      "57. Tian M, Fan XQ, Dong Y.Risk factors and preventive measures for the occurrence of NEC in preterm combined very low birth weight infants. Int J Nurs. 2023;42(2):231-4.\n",
      "58. Shao XM, Ye HM, Qiu XS.Publication of the fourth edition of practical neonatology. Chin J Pract Pediatr. 2011;26(11):880.\n",
      "59. Shao, XM, Ye HM, Qiu XS. Practical Neonatology 5th ed. Beijing: People's Health Publishing House, 2019.\n",
      "60. Walsh MC, Kliegman RM. Necrotizing enterocolitis: treatment based on staging criteria. Pediatr Clin North America. 1986;33(1):179-201.\n",
      "61. Avery's diseases of the newborn. In. Edited by Gleason CA, Devaskar SU, Avery ME, 9th ed. / edn. Philadelphia, PA: Elsevier/Saunders; 2012.\n",
      "62. van Druten J, Khashu M, Chan SS, Sharif S, Abdalla H. Abdominal ultrasound should become part of standard care for early diagnosis and management of necrotising enterocolitis: a narrative review. Arch Dis Childhood Fetal Neonatal Ed. 2019;104(5):F551-9.\n",
      "63. Chen XH, Yu ZB, Li YQ, Han SP . Guidelines for the management of necrotizing small bowel colitis in very low birth mass children in the United States. Pract Pediatr. 2012;27(14):1134-6.\n",
      "64. Samuels N, van de Graaf RA, de Jonge RCJ, Reiss IKM, Vermeulen MJ. Risk factors for necrotizing enterocolitis in neonates: a systematic review of prognostic studies. BMC Pediatr. 2017;17(1):105.\n",
      "65. Salvesen B, Stenvik J, Rossetti C, Saugstad OD, Espevik T, Mollnes TE. Meconium-induced release of cytokines is mediated by the TRL4/MD-2 complex in a CD14-dependent manner. Mol Immunol. 2010;47(6):1226-34.\n",
      "66. Greenwood C, Morrow AL, Lagomarcino AJ, Altaye M, Taft DH, Yu Z, Newburg DS, Ward DV, Schibler KR. Early empiric antibiotic use in preterm infants is associated with lower bacterial diversity and higher relative abundance of Enterobacter. J Pediatr. 2014;165(1):23-9.\n",
      "67. Cotten CM, Taylor S, Stoll B, Goldberg RN, Hansen NI, Sánchez PJ, Ambalavanan N, Benjamin DK, Jr. Prolonged duration of initial empirical antibiotic treatment is associated with increased rates of necrotizing enterocolitis and death for extremely low birth weight infants. Pediatrics. 2009;123(1):58-66.\n",
      "\n",
      "68. Esaiassen E, Fjalstad JW, Juvet LK, van den Anker JN, Klingenberg C: Antibiotic exposure in neonates and early adverse outcomes: a systematic review and meta-analysis. Journal Antimicrob Chemother. 2017;72(7):1858-70.\n",
      "69. Gagliardi L, Bellù R, Cardilli V, De Curtis M. Necrotising enterocolitis in very low birth weight infants in Italy: incidence and non-nutritional risk factors. J Pediatr Gastroenterol Nutrition. 2008;47(2):206-10.\n",
      "70. Flidel-Rimon O, Friedman S, Lev E, Juster-Reicher A, Amitay M, Shinwell ES. Early enteral feeding and nosocomial sepsis in very low birthweight infants. Arch Dis Childhood Fetal Neonatal Ed. 2004;89(4): F289-92.\n",
      "71. Li LQ, Wu B, Gao XX, Wang SX, Zheng ZS, Xu JL. A case-control study of microecological agents for the prevention and treatment of necrotizing small bowel colitis in neonates. Chin J Contemp Pediatr. 2006(06);464-6.\n",
      "72. PHay S, Zupancic JA, Flannery DD, Kirpalani H, Dukhovny D. Should we believe in transfusion-associated enterocolitis? Applying a GRADE to the literature. Semin Perinatol. 2017;41(1):80-91.\n",
      "73. Wan-Huen P, Bateman D, Shapiro DM, Parravicini E. Packed red blood cell transfusion is an independent risk factor for necrotizing enterocolitis in premature infants. J Perinatol. 2013;33(10):786-90.\n",
      "74. Rai SE, Sidhu AK, Krishnan RJ. Transfusion-associated necrotizing enterocolitis re-evaluated: a systematic review and meta-analysis. J Perinatal Med. 2018;46(6):665-76.\n",
      "75. Patel RM, Knezevic A, Shenvi N, Hinkes M, Keene S, Roback JD, Easley KA, Josephson CD. Association of red blood cell transfusion, anemia, and necrotizing enterocolitis in very low-birth-weight infants. Jama. 2016;315(9):889-97.\n",
      "76. Neu J. The 'myth' of asphyxia and hypoxia-ischemia as primary causes of necrotizing enterocolitis. Biol Neonate. 2005;87(2):97-8.\n",
      "77. Sankaran K, Puckett B, Lee DS, Seshia M, Boulton J, Qiu Z, Lee SK. Variations in incidence of necrotizing enterocolitis in Canadian neonatal intensive care units. J Pediatr Gastroenterol Nutrition. 2004;39(4):366-72.\n",
      "78. Gan X, Mao J, Li J. Clinical characteristics and outcomes of neonatal necrotizing small bowel colitis. Clinical characteristics and outcome analysis of necrotizing small bowel colitis in neonates. Chin J Contemp Pediatr. 2019;21(10):1028-32.\n",
      "79. Benitz WE. Committee on fetus and newborn, American academy of pediatrics. Patent ductus arteriosus in preterm infants. Pediatrics. 2016;137(1):10.1542/peds.2015-3730.\n",
      "80. Mitra S, Florez ID, Tamayo ME, Mbuagbaw L, Vanniyasingam T, Veroniki AA, Zea AM, Zhang Y, Sadeghirad B, Thabane L. Association of placebo, indomethacin, ibuprofen, and acetaminophen with closure of hemodynamically significant patent ductus arteriosus in preterm Infants: A systematic review and meta-analysis. Jama. 2018;319(12):1221-38.\n",
      "81. Beghetti I, Panizza D, Lenzi J, Gori D, Martini S, Corvaglia L, Aceti A. Probiotics for preventing necrotizing enterocolitis in preterm infants: A network meta-analysis. Nutrients. 2021;13(1).\n",
      "82. D'Angelo G, Impellizzeri P , Marseglia L, Montalto AS, Russo T, Salamone I, Falsaperla R, Corsello G, Romeo C, Gitto E. Current status of laboratory and imaging diagnosis of neonatal necrotizing enterocolitis. Ital J Pediatr. 2018;44(1):84.\n",
      "83. Patel RM, Underwood MA. Probiotics and necrotizing enterocolitis. Semin Pediatr Surg. 2018;27(1):39-46.\n",
      "84. oindexter B. Use of probiotics in preterm infants. Pediatrics. 2021;147(6):e2021051485.\n",
      "85. Bi LW, Yan BL, Yang QY, Li MM, Cui HL. Probiotic strategies to prevent necrotizing enterocolitis in preterm infants: a meta-analysis. Pediatr Surg Int. 2019;35(10):1143-62.\n",
      "86. Costeloe K, Hardy P , Juszczak E, Wilks M, Millar MR. Bifidobacterium breve BBG-001 in very preterm infants: a randomised controlled phase 3 trial. Lancet (London, England). 2016;387(10019):649-60.\n",
      "87. Roberts D, Brown J, Medley N, Dalziel SR. Antenatal corticosteroids for accelerating fetal lung maturation for women at risk of preterm birth. Cochrane Database Syst Rev. 2017;3(3):Cd004454.\n",
      "88. Nanthakumar NN, Young C, Ko JS, Meng D, Chen J, Buie T, Walker WA. Glucocorticoid responsiveness in developing human intestine: possible role in prevention of necrotizing enterocolitis. American journal of physiology Gastrointestinal and liver physiology. 2005; 288(1):G85-92.\n",
      "89. Huang L, Xiong T, Tang J, Feng ZC, Mu DZ. Clinical guidelines for the treatment of neonatal necrotizing small bowel colitis (2020). Chin J Contemp Pediatr.2021;23(1):1-11.\n",
      "90. Nolan LS, Parks OB, Good M. A Review of the immunomodulating components of maternal breast milk and protection against necrotizing enterocolitis. Nutrients. 2019;12(1):14.\n",
      "91. Sisk PM, Lovelady CA, Dillard RG, Gruber KJ, O'Shea TM. Early human milk feeding is associated with a lower risk of necrotizing enterocolitis in very low birth weight infants. Journal of perinatology: official journal of the California Perinatal Association. 2007;27(7):428-33.\n",
      "92. Herrmann K, Carroll K. An exclusively human milk diet reduces necrotizing enterocolitis. Breastfeeding medicine: the official journal of the Academy of Breastfeeding Medicine. 2014;9(4):184-90.\n",
      "\n",
      "## Publisher's Note\n",
      "\n",
      "Springer Nature remains neutral with regard to jurisdictional claims in published maps and institutional affiliations.\n"
     ]
    }
   ],
   "source": [
    "markdown_content = doc.export_to_markdown()\n",
    "print(markdown_content)"
   ]
  },
  {
   "cell_type": "code",
   "execution_count": 38,
   "metadata": {},
   "outputs": [
    {
     "name": "stdout",
     "output_type": "stream",
     "text": [
      "Step 3: Chunking document...\n",
      "============================================================\n",
      "\n",
      "✅ Created 28 chunks\n",
      "\n",
      "Size distribution:\n",
      "  Small (<1000): 5\n",
      "  Medium (1000-8000): 20\n",
      "  Large (>8000): 3\n",
      "  Tables: 3\n",
      "\n",
      "First 5 chunks:\n",
      "  1. Factors influencing necrotizing enterocolitis in premature i... (3000 chars)\n",
      "  2. Factors influencing necrotizing enterocolitis in premature i... (1411 chars)\n",
      "  3. Introduction (Part 1)... (2624 chars)\n",
      "  4. Introduction (Part 2)... (1248 chars)\n",
      "  5. Search strategy... (1163 chars)\n"
     ]
    }
   ],
   "source": [
    "# Step 3: Chunk the document\n",
    "print(\"Step 3: Chunking document...\")\n",
    "print(\"=\" * 60)\n",
    "markdown_content = doc.export_to_markdown()\n",
    "chunks = chunk_document(markdown_content, min_chunk_size=1000, max_chunk_size=3000, overlap=200)\n",
    "if len(chunks) == 0:\n",
    "    markdown_content = doc.export_to_html()\n",
    "    chunks = chunk_document(markdown_content, min_chunk_size=1000, max_chunk_size=3000, overlap=200)\n",
    "\n",
    "print(f\"\\n✅ Created {len(chunks)} chunks\")\n",
    "print(f\"\\nSize distribution:\")\n",
    "print(f\"  Small (<1000): {sum(1 for c in chunks if c['char_count'] < 1000)}\")\n",
    "print(f\"  Medium (1000-8000): {sum(1 for c in chunks if 1000 <= c['char_count'] <= 8000)}\")\n",
    "print(f\"  Large (>8000): {sum(1 for c in chunks if c['char_count'] > 8000)}\")\n",
    "print(f\"  Tables: {sum(1 for c in chunks if c.get('contains_table', False))}\")\n",
    "\n",
    "print(f\"\\nFirst 5 chunks:\")\n",
    "for i, chunk in enumerate(chunks[:5]):\n",
    "    marker = \" [TABLE]\" if chunk.get('contains_table') else \"\"\n",
    "    print(f\"  {i+1}. {chunk['header'][:60]}... ({chunk['char_count']} chars){marker}\")"
   ]
  },
  {
   "cell_type": "code",
   "execution_count": 40,
   "metadata": {},
   "outputs": [
    {
     "name": "stdout",
     "output_type": "stream",
     "text": [
      "Step 4: Tagging chunks with LLM...\n",
      "============================================================\n",
      "  Processing 1/28...\r"
     ]
    },
    {
     "name": "stderr",
     "output_type": "stream",
     "text": [
      "2025-10-04 05:32:58,061 - INFO - HTTP Request: POST https://api.groq.com/openai/v1/chat/completions \"HTTP/1.1 200 OK\"\n"
     ]
    },
    {
     "name": "stdout",
     "output_type": "stream",
     "text": [
      "  Processing 2/28...\r"
     ]
    },
    {
     "name": "stderr",
     "output_type": "stream",
     "text": [
      "2025-10-04 05:32:58,774 - INFO - HTTP Request: POST https://api.groq.com/openai/v1/chat/completions \"HTTP/1.1 200 OK\"\n"
     ]
    },
    {
     "name": "stdout",
     "output_type": "stream",
     "text": [
      "  Processing 3/28...\r"
     ]
    },
    {
     "name": "stderr",
     "output_type": "stream",
     "text": [
      "2025-10-04 05:32:59,889 - INFO - HTTP Request: POST https://api.groq.com/openai/v1/chat/completions \"HTTP/1.1 200 OK\"\n"
     ]
    },
    {
     "name": "stdout",
     "output_type": "stream",
     "text": [
      "  Processing 4/28...\r"
     ]
    },
    {
     "name": "stderr",
     "output_type": "stream",
     "text": [
      "2025-10-04 05:33:00,595 - INFO - HTTP Request: POST https://api.groq.com/openai/v1/chat/completions \"HTTP/1.1 200 OK\"\n"
     ]
    },
    {
     "name": "stdout",
     "output_type": "stream",
     "text": [
      "  Processing 5/28...\r"
     ]
    },
    {
     "name": "stderr",
     "output_type": "stream",
     "text": [
      "2025-10-04 05:33:01,539 - INFO - HTTP Request: POST https://api.groq.com/openai/v1/chat/completions \"HTTP/1.1 200 OK\"\n"
     ]
    },
    {
     "name": "stdout",
     "output_type": "stream",
     "text": [
      "  Processing 6/28...\r"
     ]
    },
    {
     "name": "stderr",
     "output_type": "stream",
     "text": [
      "2025-10-04 05:33:02,544 - INFO - HTTP Request: POST https://api.groq.com/openai/v1/chat/completions \"HTTP/1.1 200 OK\"\n"
     ]
    },
    {
     "name": "stdout",
     "output_type": "stream",
     "text": [
      "  Processing 7/28...\r"
     ]
    },
    {
     "name": "stderr",
     "output_type": "stream",
     "text": [
      "2025-10-04 05:33:03,445 - INFO - HTTP Request: POST https://api.groq.com/openai/v1/chat/completions \"HTTP/1.1 200 OK\"\n"
     ]
    },
    {
     "name": "stdout",
     "output_type": "stream",
     "text": [
      "  Processing 8/28...\r"
     ]
    },
    {
     "name": "stderr",
     "output_type": "stream",
     "text": [
      "2025-10-04 05:33:04,024 - INFO - HTTP Request: POST https://api.groq.com/openai/v1/chat/completions \"HTTP/1.1 200 OK\"\n"
     ]
    },
    {
     "name": "stdout",
     "output_type": "stream",
     "text": [
      "  Processing 9/28...\r"
     ]
    },
    {
     "name": "stderr",
     "output_type": "stream",
     "text": [
      "2025-10-04 05:33:04,587 - INFO - HTTP Request: POST https://api.groq.com/openai/v1/chat/completions \"HTTP/1.1 200 OK\"\n"
     ]
    },
    {
     "name": "stdout",
     "output_type": "stream",
     "text": [
      "  Processing 10/28...\r"
     ]
    },
    {
     "name": "stderr",
     "output_type": "stream",
     "text": [
      "2025-10-04 05:33:05,759 - INFO - HTTP Request: POST https://api.groq.com/openai/v1/chat/completions \"HTTP/1.1 200 OK\"\n"
     ]
    },
    {
     "name": "stdout",
     "output_type": "stream",
     "text": [
      "  Processing 11/28...\r"
     ]
    },
    {
     "name": "stderr",
     "output_type": "stream",
     "text": [
      "2025-10-04 05:33:06,877 - INFO - HTTP Request: POST https://api.groq.com/openai/v1/chat/completions \"HTTP/1.1 200 OK\"\n"
     ]
    },
    {
     "name": "stdout",
     "output_type": "stream",
     "text": [
      "  Processing 12/28...\r"
     ]
    },
    {
     "name": "stderr",
     "output_type": "stream",
     "text": [
      "2025-10-04 05:33:07,851 - INFO - HTTP Request: POST https://api.groq.com/openai/v1/chat/completions \"HTTP/1.1 200 OK\"\n"
     ]
    },
    {
     "name": "stdout",
     "output_type": "stream",
     "text": [
      "  Processing 13/28...\r"
     ]
    },
    {
     "name": "stderr",
     "output_type": "stream",
     "text": [
      "2025-10-04 05:33:09,037 - INFO - HTTP Request: POST https://api.groq.com/openai/v1/chat/completions \"HTTP/1.1 200 OK\"\n",
      "2025-10-04 05:33:09,093 - INFO - HTTP Request: POST https://api.groq.com/openai/v1/chat/completions \"HTTP/1.1 429 Too Many Requests\"\n",
      "2025-10-04 05:33:09,094 - INFO - Retrying request to /openai/v1/chat/completions in 3.000000 seconds\n"
     ]
    },
    {
     "name": "stdout",
     "output_type": "stream",
     "text": [
      "  Processing 14/28...\r"
     ]
    },
    {
     "name": "stderr",
     "output_type": "stream",
     "text": [
      "2025-10-04 05:33:13,638 - INFO - HTTP Request: POST https://api.groq.com/openai/v1/chat/completions \"HTTP/1.1 200 OK\"\n",
      "2025-10-04 05:33:13,718 - INFO - HTTP Request: POST https://api.groq.com/openai/v1/chat/completions \"HTTP/1.1 429 Too Many Requests\"\n",
      "2025-10-04 05:33:13,719 - INFO - Retrying request to /openai/v1/chat/completions in 1.000000 seconds\n"
     ]
    },
    {
     "name": "stdout",
     "output_type": "stream",
     "text": [
      "  Processing 15/28...\r"
     ]
    },
    {
     "name": "stderr",
     "output_type": "stream",
     "text": [
      "2025-10-04 05:33:16,009 - INFO - HTTP Request: POST https://api.groq.com/openai/v1/chat/completions \"HTTP/1.1 200 OK\"\n",
      "2025-10-04 05:33:16,066 - INFO - HTTP Request: POST https://api.groq.com/openai/v1/chat/completions \"HTTP/1.1 429 Too Many Requests\"\n",
      "2025-10-04 05:33:16,070 - INFO - Retrying request to /openai/v1/chat/completions in 6.000000 seconds\n"
     ]
    },
    {
     "name": "stdout",
     "output_type": "stream",
     "text": [
      "  Processing 16/28...\r"
     ]
    },
    {
     "name": "stderr",
     "output_type": "stream",
     "text": [
      "2025-10-04 05:33:23,691 - INFO - HTTP Request: POST https://api.groq.com/openai/v1/chat/completions \"HTTP/1.1 200 OK\"\n",
      "2025-10-04 05:33:23,750 - INFO - HTTP Request: POST https://api.groq.com/openai/v1/chat/completions \"HTTP/1.1 429 Too Many Requests\"\n",
      "2025-10-04 05:33:23,751 - INFO - Retrying request to /openai/v1/chat/completions in 5.000000 seconds\n"
     ]
    },
    {
     "name": "stdout",
     "output_type": "stream",
     "text": [
      "  Processing 17/28...\r"
     ]
    },
    {
     "name": "stderr",
     "output_type": "stream",
     "text": [
      "2025-10-04 05:33:29,566 - INFO - HTTP Request: POST https://api.groq.com/openai/v1/chat/completions \"HTTP/1.1 200 OK\"\n",
      "2025-10-04 05:33:29,624 - INFO - HTTP Request: POST https://api.groq.com/openai/v1/chat/completions \"HTTP/1.1 429 Too Many Requests\"\n",
      "2025-10-04 05:33:29,624 - INFO - Retrying request to /openai/v1/chat/completions in 4.000000 seconds\n"
     ]
    },
    {
     "name": "stdout",
     "output_type": "stream",
     "text": [
      "  Processing 18/28...\r"
     ]
    },
    {
     "name": "stderr",
     "output_type": "stream",
     "text": [
      "2025-10-04 05:33:34,464 - INFO - HTTP Request: POST https://api.groq.com/openai/v1/chat/completions \"HTTP/1.1 200 OK\"\n",
      "2025-10-04 05:33:34,519 - INFO - HTTP Request: POST https://api.groq.com/openai/v1/chat/completions \"HTTP/1.1 429 Too Many Requests\"\n",
      "2025-10-04 05:33:34,521 - INFO - Retrying request to /openai/v1/chat/completions in 3.000000 seconds\n"
     ]
    },
    {
     "name": "stdout",
     "output_type": "stream",
     "text": [
      "  Processing 19/28...\r"
     ]
    },
    {
     "name": "stderr",
     "output_type": "stream",
     "text": [
      "2025-10-04 05:33:38,378 - INFO - HTTP Request: POST https://api.groq.com/openai/v1/chat/completions \"HTTP/1.1 200 OK\"\n",
      "2025-10-04 05:33:38,438 - INFO - HTTP Request: POST https://api.groq.com/openai/v1/chat/completions \"HTTP/1.1 429 Too Many Requests\"\n",
      "2025-10-04 05:33:38,439 - INFO - Retrying request to /openai/v1/chat/completions in 4.000000 seconds\n"
     ]
    },
    {
     "name": "stdout",
     "output_type": "stream",
     "text": [
      "  Processing 20/28...\r"
     ]
    },
    {
     "name": "stderr",
     "output_type": "stream",
     "text": [
      "2025-10-04 05:33:43,270 - INFO - HTTP Request: POST https://api.groq.com/openai/v1/chat/completions \"HTTP/1.1 200 OK\"\n",
      "2025-10-04 05:33:43,334 - INFO - HTTP Request: POST https://api.groq.com/openai/v1/chat/completions \"HTTP/1.1 429 Too Many Requests\"\n",
      "2025-10-04 05:33:43,335 - INFO - Retrying request to /openai/v1/chat/completions in 3.000000 seconds\n"
     ]
    },
    {
     "name": "stdout",
     "output_type": "stream",
     "text": [
      "  Processing 21/28...\r"
     ]
    },
    {
     "name": "stderr",
     "output_type": "stream",
     "text": [
      "2025-10-04 05:33:47,325 - INFO - HTTP Request: POST https://api.groq.com/openai/v1/chat/completions \"HTTP/1.1 200 OK\"\n",
      "2025-10-04 05:33:47,467 - INFO - HTTP Request: POST https://api.groq.com/openai/v1/chat/completions \"HTTP/1.1 429 Too Many Requests\"\n",
      "2025-10-04 05:33:47,468 - INFO - Retrying request to /openai/v1/chat/completions in 5.000000 seconds\n"
     ]
    },
    {
     "name": "stdout",
     "output_type": "stream",
     "text": [
      "  Processing 22/28...\r"
     ]
    },
    {
     "name": "stderr",
     "output_type": "stream",
     "text": [
      "2025-10-04 05:33:53,345 - INFO - HTTP Request: POST https://api.groq.com/openai/v1/chat/completions \"HTTP/1.1 200 OK\"\n",
      "2025-10-04 05:33:53,401 - INFO - HTTP Request: POST https://api.groq.com/openai/v1/chat/completions \"HTTP/1.1 429 Too Many Requests\"\n",
      "2025-10-04 05:33:53,403 - INFO - Retrying request to /openai/v1/chat/completions in 4.000000 seconds\n"
     ]
    },
    {
     "name": "stdout",
     "output_type": "stream",
     "text": [
      "  Processing 23/28...\r"
     ]
    },
    {
     "name": "stderr",
     "output_type": "stream",
     "text": [
      "2025-10-04 05:33:58,980 - INFO - HTTP Request: POST https://api.groq.com/openai/v1/chat/completions \"HTTP/1.1 200 OK\"\n",
      "2025-10-04 05:33:59,044 - INFO - HTTP Request: POST https://api.groq.com/openai/v1/chat/completions \"HTTP/1.1 429 Too Many Requests\"\n",
      "2025-10-04 05:33:59,045 - INFO - Retrying request to /openai/v1/chat/completions in 5.000000 seconds\n"
     ]
    },
    {
     "name": "stdout",
     "output_type": "stream",
     "text": [
      "  Processing 24/28...\r"
     ]
    },
    {
     "name": "stderr",
     "output_type": "stream",
     "text": [
      "2025-10-04 05:34:04,819 - INFO - HTTP Request: POST https://api.groq.com/openai/v1/chat/completions \"HTTP/1.1 200 OK\"\n",
      "2025-10-04 05:34:04,881 - INFO - HTTP Request: POST https://api.groq.com/openai/v1/chat/completions \"HTTP/1.1 429 Too Many Requests\"\n",
      "2025-10-04 05:34:04,882 - INFO - Retrying request to /openai/v1/chat/completions in 7.000000 seconds\n"
     ]
    },
    {
     "name": "stdout",
     "output_type": "stream",
     "text": [
      "  Processing 25/28...\r"
     ]
    },
    {
     "name": "stderr",
     "output_type": "stream",
     "text": [
      "2025-10-04 05:34:12,923 - INFO - HTTP Request: POST https://api.groq.com/openai/v1/chat/completions \"HTTP/1.1 200 OK\"\n",
      "2025-10-04 05:34:12,991 - INFO - HTTP Request: POST https://api.groq.com/openai/v1/chat/completions \"HTTP/1.1 429 Too Many Requests\"\n",
      "2025-10-04 05:34:12,992 - INFO - Retrying request to /openai/v1/chat/completions in 5.000000 seconds\n"
     ]
    },
    {
     "name": "stdout",
     "output_type": "stream",
     "text": [
      "  Processing 26/28...\r"
     ]
    },
    {
     "name": "stderr",
     "output_type": "stream",
     "text": [
      "2025-10-04 05:34:19,031 - INFO - HTTP Request: POST https://api.groq.com/openai/v1/chat/completions \"HTTP/1.1 200 OK\"\n",
      "2025-10-04 05:34:19,091 - INFO - HTTP Request: POST https://api.groq.com/openai/v1/chat/completions \"HTTP/1.1 429 Too Many Requests\"\n",
      "2025-10-04 05:34:19,091 - INFO - Retrying request to /openai/v1/chat/completions in 6.000000 seconds\n"
     ]
    },
    {
     "name": "stdout",
     "output_type": "stream",
     "text": [
      "  Processing 27/28...\r"
     ]
    },
    {
     "name": "stderr",
     "output_type": "stream",
     "text": [
      "2025-10-04 05:34:26,198 - INFO - HTTP Request: POST https://api.groq.com/openai/v1/chat/completions \"HTTP/1.1 200 OK\"\n",
      "2025-10-04 05:34:26,253 - INFO - HTTP Request: POST https://api.groq.com/openai/v1/chat/completions \"HTTP/1.1 429 Too Many Requests\"\n",
      "2025-10-04 05:34:26,254 - INFO - Retrying request to /openai/v1/chat/completions in 2.000000 seconds\n"
     ]
    },
    {
     "name": "stdout",
     "output_type": "stream",
     "text": [
      "  Processing 28/28...\r"
     ]
    },
    {
     "name": "stderr",
     "output_type": "stream",
     "text": [
      "2025-10-04 05:34:28,956 - INFO - HTTP Request: POST https://api.groq.com/openai/v1/chat/completions \"HTTP/1.1 200 OK\"\n"
     ]
    },
    {
     "name": "stdout",
     "output_type": "stream",
     "text": [
      "\n",
      "\n",
      "✅ Tagged 28 chunks\n",
      "\n",
      "Metadata:\n",
      "  Authors: Aihua Wang, Xinghui Cui, Huimin Jiang\n",
      "  Date: 2024\n",
      "\n",
      "Tag distribution:\n",
      "  <research_methods>: 8\n",
      "  <findings_conclusion>: 7\n",
      "  <metadata>: 5\n",
      "  <summary>: 3\n",
      "  findings_conclusion: 3\n",
      "  research_methods: 2\n",
      "  summary: 1\n",
      "  <: 1\n"
     ]
    }
   ],
   "source": [
    "# Step 4: Tag chunks and extract metadata\n",
    "print(\"Step 4: Tagging chunks with LLM...\")\n",
    "print(\"=\" * 60)\n",
    "\n",
    "tagging_prompt = \"\"\"Analyze this text chunk from a research paper:\n",
    "\n",
    "1. Assign tags (comma-separated):\n",
    "   - <summary>: abstract, introduction, conclusion\n",
    "   - <research_methods>: methodology, study design, data collection\n",
    "   - <findings_conclusion>: results, findings, conclusions\n",
    "   - <metadata>: authors, dates, affiliations\n",
    "\n",
    "2. Extract metadata:\n",
    "   - Authors: (list or None)\n",
    "   - Date: (date or None)\n",
    "\n",
    "Format:\n",
    "TAGS: <tag1>, <tag2>\n",
    "AUTHORS: names or None\n",
    "DATE: date or None\n",
    "\n",
    "Text:\n",
    "{chunk_text}\"\"\"\n",
    "\n",
    "document_metadata = {\"authors\": None, \"date\": None}\n",
    "tagged_chunks = []\n",
    "\n",
    "for i, chunk in enumerate(chunks):\n",
    "    print(f\"  Processing {i+1}/{len(chunks)}...\", end='\\r')\n",
    "    \n",
    "    prompt = tagging_prompt.format(chunk_text=chunk['content'][:2000])\n",
    "    \n",
    "    try:\n",
    "        response = groq_client.chat.completions.create(\n",
    "            model=\"openai/gpt-oss-120b\",\n",
    "            messages=[{\"role\": \"user\", \"content\": prompt}],\n",
    "            temperature=0.1,\n",
    "            max_completion_tokens=200,\n",
    "        )\n",
    "        \n",
    "        result = response.choices[0].message.content\n",
    "        tags = []\n",
    "        \n",
    "        for line in result.split('\\n'):\n",
    "            if line.startswith('TAGS:'):\n",
    "                tags = [t.strip() for t in line.replace('TAGS:', '').strip().split(',') if t.strip()]\n",
    "            elif line.startswith('AUTHORS:'):\n",
    "                authors = line.replace('AUTHORS:', '').strip()\n",
    "                if authors.lower() != 'none' and not document_metadata[\"authors\"]:\n",
    "                    document_metadata[\"authors\"] = authors\n",
    "            elif line.startswith('DATE:'):\n",
    "                date = line.replace('DATE:', '').strip()\n",
    "                if date.lower() != 'none' and not document_metadata[\"date\"]:\n",
    "                    document_metadata[\"date\"] = date\n",
    "        \n",
    "        tagged_chunks.append({**chunk, \"tags\": tags, \"chunk_id\": i})\n",
    "    except Exception as e:\n",
    "        print(f\"\\n  Error on chunk {i}: {e}\")\n",
    "        tagged_chunks.append({**chunk, \"tags\": [], \"chunk_id\": i})\n",
    "\n",
    "print(f\"\\n\\n✅ Tagged {len(tagged_chunks)} chunks\")\n",
    "print(f\"\\nMetadata:\")\n",
    "print(f\"  Authors: {document_metadata['authors']}\")\n",
    "print(f\"  Date: {document_metadata['date']}\")\n",
    "\n",
    "tag_counts = {}\n",
    "for chunk in tagged_chunks:\n",
    "    for tag in chunk['tags']:\n",
    "        tag_counts[tag] = tag_counts.get(tag, 0) + 1\n",
    "\n",
    "print(f\"\\nTag distribution:\")\n",
    "for tag, count in sorted(tag_counts.items(), key=lambda x: x[1], reverse=True):\n",
    "    print(f\"  {tag}: {count}\")"
   ]
  },
  {
   "cell_type": "code",
   "execution_count": 26,
   "metadata": {},
   "outputs": [
    {
     "name": "stdout",
     "output_type": "stream",
     "text": [
      "Step 5: Storing in ChromaDB...\n",
      "============================================================\n",
      "✅ Stored 22 chunks with embeddings\n",
      "Collection size: 22 items\n"
     ]
    }
   ],
   "source": [
    "# Step 5: Store in ChromaDB\n",
    "print(\"Step 5: Storing in ChromaDB...\")\n",
    "print(\"=\" * 60)\n",
    "\n",
    "chroma_client = chromadb.Client()\n",
    "collection = chroma_client.get_or_create_collection(\n",
    "    name=\"research_papers\",\n",
    "    embedding_function=embedding_functions.DefaultEmbeddingFunction()\n",
    ")\n",
    "\n",
    "documents = [chunk['content'] for chunk in tagged_chunks]\n",
    "metadatas = [{\n",
    "    \"header\": chunk['header'],\n",
    "    \"tags\": ','.join(chunk['tags']),\n",
    "    \"char_count\": chunk['char_count'],\n",
    "    \"chunk_id\": chunk['chunk_id']\n",
    "} for chunk in tagged_chunks]\n",
    "ids = [f\"chunk_{chunk['chunk_id']}\" for chunk in tagged_chunks]\n",
    "\n",
    "collection.add(documents=documents, metadatas=metadatas, ids=ids)\n",
    "\n",
    "print(f\"✅ Stored {len(documents)} chunks with embeddings\")\n",
    "print(f\"Collection size: {collection.count()} items\")"
   ]
  },
  {
   "cell_type": "code",
   "execution_count": 41,
   "metadata": {},
   "outputs": [
    {
     "name": "stdout",
     "output_type": "stream",
     "text": [
      "Step 6: Setting up hybrid search...\n",
      "============================================================\n",
      "✅ Hybrid search ready!\n",
      "\n",
      "Test query: 'research methodology'\n",
      "1. Introduction (Part 1)... (score: 0.500)\n",
      "2. Discussion... (score: 0.484)\n",
      "3. Protect factors for NEC (Part 2)... (score: 0.043)\n",
      "4. Sensitivity analysis and publication bias (Part 1)... (score: 0.039)\n",
      "5. Risk factors for NEC... (score: 0.032)\n"
     ]
    }
   ],
   "source": [
    "# Step 6: Hybrid Search (Semantic + BM25)\n",
    "print(\"Step 6: Setting up hybrid search...\")\n",
    "print(\"=\" * 60)\n",
    "\n",
    "tokenized_docs = [doc.lower().split() for doc in documents]\n",
    "bm25 = BM25Okapi(tokenized_docs)\n",
    "\n",
    "def hybrid_search(query: str, tag_filter: str = None, top_k: int = 5, alpha: float = 0.5):\n",
    "    \"\"\"Hybrid search: semantic (alpha) + BM25 (1-alpha)\"\"\"\n",
    "    \n",
    "    # Semantic search\n",
    "    where_filter = {\"tags\": {\"$contains\": tag_filter}} if tag_filter else None\n",
    "    semantic_results = collection.query(\n",
    "        query_texts=[query],\n",
    "        n_results=top_k * 2,\n",
    "        where=where_filter\n",
    "    )\n",
    "    \n",
    "    # BM25 keyword search\n",
    "    tokenized_query = query.lower().split()\n",
    "    bm25_scores = bm25.get_scores(tokenized_query)\n",
    "    \n",
    "    # Normalize and combine\n",
    "    semantic_ids = semantic_results['ids'][0]\n",
    "    semantic_distances = semantic_results['distances'][0]\n",
    "    \n",
    "    max_dist = max(semantic_distances) if semantic_distances and max(semantic_distances) > 0 else 1\n",
    "    semantic_scores_norm = {\n",
    "        semantic_ids[i]: 1 - (semantic_distances[i] / max_dist)\n",
    "        for i in range(len(semantic_ids))\n",
    "    }\n",
    "    \n",
    "    max_bm25 = max(bm25_scores) if max(bm25_scores) > 0 else 1\n",
    "    bm25_scores_norm = bm25_scores / max_bm25\n",
    "    \n",
    "    combined_scores = {}\n",
    "    for i, chunk_id in enumerate(ids):\n",
    "        sem_score = semantic_scores_norm.get(chunk_id, 0)\n",
    "        bm25_score = bm25_scores_norm[i]\n",
    "        combined_scores[chunk_id] = alpha * sem_score + (1 - alpha) * bm25_score\n",
    "    \n",
    "    top_chunks = sorted(combined_scores.items(), key=lambda x: x[1], reverse=True)[:top_k]\n",
    "    \n",
    "    results = []\n",
    "    for chunk_id, score in top_chunks:\n",
    "        chunk_idx = int(chunk_id.split('_')[1])\n",
    "        chunk = tagged_chunks[chunk_idx]\n",
    "        results.append({\n",
    "            \"chunk_id\": chunk_id,\n",
    "            \"score\": score,\n",
    "            \"header\": chunk['header'],\n",
    "            \"content\": chunk['content'],\n",
    "            \"tags\": chunk['tags']\n",
    "        })\n",
    "    \n",
    "    return results\n",
    "\n",
    "print(\"✅ Hybrid search ready!\")\n",
    "\n",
    "# Test it\n",
    "print(\"\\nTest query: 'research methodology'\")\n",
    "test_results = hybrid_search(\"research methodology\", top_k=5)\n",
    "for i, r in enumerate(test_results, 1):\n",
    "    print(f\"{i}. {r['header'][:60]}... (score: {r['score']:.3f})\")"
   ]
  },
  {
   "cell_type": "code",
   "execution_count": 42,
   "metadata": {},
   "outputs": [
    {
     "name": "stdout",
     "output_type": "stream",
     "text": [
      "Step 7: Setting up Corrective RAG...\n",
      "============================================================\n",
      "✅ Corrective RAG ready!\n"
     ]
    }
   ],
   "source": [
    "# Step 7: Agentic Corrective RAG Functions\n",
    "print(\"Step 7: Setting up Corrective RAG...\")\n",
    "print(\"=\" * 60)\n",
    "\n",
    "def grade_chunk_relevance(chunk_content: str, query: str) -> dict:\n",
    "    \"\"\"Grade chunk relevance using LLM.\"\"\"\n",
    "    grading_prompt = f\"\"\"You are a grading expert. Is this chunk relevant to the query?\n",
    "\n",
    "Query: {query}\n",
    "\n",
    "Chunk:\n",
    "{chunk_content[:1000]}\n",
    "\n",
    "Format:\n",
    "RELEVANT: yes or no\n",
    "SCORE: high, medium, or low\n",
    "REASON: brief explanation (1 sentence)\n",
    "\"\"\"\n",
    "    \n",
    "    try:\n",
    "        response = groq_client.chat.completions.create(\n",
    "            model=\"openai/gpt-oss-120b\",\n",
    "            messages=[{\"role\": \"user\", \"content\": grading_prompt}],\n",
    "            temperature=0.1,\n",
    "            max_completion_tokens=150,\n",
    "        )\n",
    "        \n",
    "        result = response.choices[0].message.content\n",
    "        relevant = False\n",
    "        score = \"low\"\n",
    "        reason = \"Unknown\"\n",
    "        \n",
    "        for line in result.split('\\n'):\n",
    "            if line.startswith('RELEVANT:'):\n",
    "                relevant = 'yes' in line.lower()\n",
    "            elif line.startswith('SCORE:'):\n",
    "                score = line.replace('SCORE:', '').strip().lower()\n",
    "            elif line.startswith('REASON:'):\n",
    "                reason = line.replace('REASON:', '').strip()\n",
    "        \n",
    "        return {'relevant': relevant, 'score': score, 'reason': reason}\n",
    "    except Exception as e:\n",
    "        return {'relevant': True, 'score': 'medium', 'reason': f'Error: {e}'}\n",
    "\n",
    "def rewrite_query(original_query: str, feedback: str = None) -> str:\n",
    "    \"\"\"Rewrite query to improve retrieval.\"\"\"\n",
    "    if feedback:\n",
    "        prompt = f\"\"\"Original query failed to retrieve relevant results.\n",
    "\n",
    "Original: {original_query}\n",
    "Feedback: {feedback}\n",
    "\n",
    "Rewrite for better retrieval. Return only the rewritten query.\"\"\"\n",
    "    else:\n",
    "        prompt = f\"\"\"Improve this query for better retrieval:\n",
    "\n",
    "{original_query}\n",
    "\n",
    "Return only the improved query.\"\"\"\n",
    "    \n",
    "    try:\n",
    "        response = groq_client.chat.completions.create(\n",
    "            model=\"openai/gpt-oss-120b\",\n",
    "            messages=[{\"role\": \"user\", \"content\": prompt}],\n",
    "            temperature=0.3,\n",
    "            max_completion_tokens=100,\n",
    "        )\n",
    "        return response.choices[0].message.content.strip()\n",
    "    except Exception as e:\n",
    "        print(f\"Error rewriting: {e}\")\n",
    "        return original_query\n",
    "\n",
    "def corrective_rag_retrieval(query: str, max_iterations: int = 3, top_k: int = 5):\n",
    "    \"\"\"Agentic Corrective RAG with iterative retrieval.\"\"\"\n",
    "    print(f\"\\n{'='*70}\")\n",
    "    print(f\"Query: {query}\")\n",
    "    print(f\"{'='*70}\\n\")\n",
    "    \n",
    "    current_query = query\n",
    "    iteration = 0\n",
    "    all_relevant_chunks = []\n",
    "    \n",
    "    while iteration < max_iterations:\n",
    "        iteration += 1\n",
    "        print(f\"🔄 Iteration {iteration}: '{current_query}'\")\n",
    "        \n",
    "        # Retrieve\n",
    "        retrieved = hybrid_search(current_query, tag_filter=None, top_k=top_k, alpha=0.5)\n",
    "        \n",
    "        if not retrieved:\n",
    "            print(\"  ⚠️  No results. Rewriting...\")\n",
    "            current_query = rewrite_query(current_query, \"No results found\")\n",
    "            continue\n",
    "        \n",
    "        # Grade\n",
    "        print(f\"  📊 Grading {len(retrieved)} chunks...\")\n",
    "        relevant_count = 0\n",
    "        \n",
    "        for chunk in retrieved:\n",
    "            grade = grade_chunk_relevance(chunk['content'], query)\n",
    "            chunk['relevance_grade'] = grade\n",
    "            \n",
    "            if grade['relevant'] and grade['score'] in ['high', 'medium']:\n",
    "                if not any(c['chunk_id'] == chunk['chunk_id'] for c in all_relevant_chunks):\n",
    "                    all_relevant_chunks.append(chunk)\n",
    "                    relevant_count += 1\n",
    "                    print(f\"    ✅ {chunk['header'][:50]}... - {grade['score'].upper()}\")\n",
    "            else:\n",
    "                print(f\"    ❌ {chunk['header'][:50]}... - Rejected\")\n",
    "        \n",
    "        print(f\"  📈 Found {relevant_count} relevant (Total: {len(all_relevant_chunks)})\")\n",
    "        \n",
    "        # Check if enough\n",
    "        if len(all_relevant_chunks) >= 3:\n",
    "            print(f\"\\n✅ SUCCESS: {len(all_relevant_chunks)} relevant chunks!\")\n",
    "            break\n",
    "        \n",
    "        # Rewrite\n",
    "        if iteration < max_iterations:\n",
    "            feedback = f\"Only {len(all_relevant_chunks)} relevant. Need more.\"\n",
    "            print(f\"  🔄 Rewriting query...\")\n",
    "            current_query = rewrite_query(query, feedback)\n",
    "    \n",
    "    if not all_relevant_chunks:\n",
    "        print(\"\\n⚠️  No relevant chunks. Using fallback...\")\n",
    "        all_relevant_chunks = hybrid_search(query, top_k=top_k, alpha=0.5)\n",
    "    \n",
    "    return {\n",
    "        'query': query,\n",
    "        'final_query': current_query,\n",
    "        'iterations': iteration,\n",
    "        'relevant_chunks': all_relevant_chunks,\n",
    "        'total_found': len(all_relevant_chunks)\n",
    "    }\n",
    "\n",
    "print(\"✅ Corrective RAG ready!\")"
   ]
  },
  {
   "cell_type": "code",
   "execution_count": 43,
   "metadata": {},
   "outputs": [
    {
     "name": "stdout",
     "output_type": "stream",
     "text": [
      "Step 8: Testing Corrective RAG...\n",
      "============================================================\n",
      "\n",
      "======================================================================\n",
      "Query: What are the research methods used in this study?\n",
      "======================================================================\n",
      "\n",
      "🔄 Iteration 1: 'What are the research methods used in this study?'\n",
      "  📊 Grading 5 chunks...\n"
     ]
    },
    {
     "name": "stderr",
     "output_type": "stream",
     "text": [
      "2025-10-04 05:34:55,366 - INFO - HTTP Request: POST https://api.groq.com/openai/v1/chat/completions \"HTTP/1.1 200 OK\"\n"
     ]
    },
    {
     "name": "stdout",
     "output_type": "stream",
     "text": [
      "    ✅ Risk factors for NEC... - MEDIUM\n"
     ]
    },
    {
     "name": "stderr",
     "output_type": "stream",
     "text": [
      "2025-10-04 05:34:56,414 - INFO - HTTP Request: POST https://api.groq.com/openai/v1/chat/completions \"HTTP/1.1 200 OK\"\n"
     ]
    },
    {
     "name": "stdout",
     "output_type": "stream",
     "text": [
      "    ❌ Search strategy... - Rejected\n"
     ]
    },
    {
     "name": "stderr",
     "output_type": "stream",
     "text": [
      "2025-10-04 05:34:57,074 - INFO - HTTP Request: POST https://api.groq.com/openai/v1/chat/completions \"HTTP/1.1 200 OK\"\n"
     ]
    },
    {
     "name": "stdout",
     "output_type": "stream",
     "text": [
      "    ❌ Introduction (Part 1)... - Rejected\n"
     ]
    },
    {
     "name": "stderr",
     "output_type": "stream",
     "text": [
      "2025-10-04 05:34:57,643 - INFO - HTTP Request: POST https://api.groq.com/openai/v1/chat/completions \"HTTP/1.1 200 OK\"\n"
     ]
    },
    {
     "name": "stdout",
     "output_type": "stream",
     "text": [
      "    ✅ Data synthesis and statistical analysis + Study se... - HIGH\n"
     ]
    },
    {
     "name": "stderr",
     "output_type": "stream",
     "text": [
      "2025-10-04 05:35:00,602 - INFO - HTTP Request: POST https://api.groq.com/openai/v1/chat/completions \"HTTP/1.1 200 OK\"\n"
     ]
    },
    {
     "name": "stdout",
     "output_type": "stream",
     "text": [
      "    ✅ Discussion... - MEDIUM\n",
      "  📈 Found 3 relevant (Total: 3)\n",
      "\n",
      "✅ SUCCESS: 3 relevant chunks!\n",
      "\n",
      "======================================================================\n",
      "TEST RESULTS\n",
      "======================================================================\n",
      "Original Query: What are the research methods used in this study?\n",
      "Final Query: What are the research methods used in this study?\n",
      "Iterations: 1\n",
      "Relevant Chunks: 3\n",
      "\n",
      "Top chunks:\n",
      "1. Risk factors for NEC...\n",
      "   Preview: ## Risk factors for NEC\n",
      "\n",
      "This meta-analysis showed that MSAF, history of antibiotic use and preterm infection were risk factors for NEC in  preterm  i...\n",
      "\n",
      "2. Data synthesis and statistical analysis + Study selection...\n",
      "   Preview: ## Data synthesis and statistical analysis\n",
      "\n",
      "We used Stata 14.0 software to perform statistical analysis of the extracted data. Heterogeneity among the...\n",
      "\n",
      "3. Discussion...\n",
      "   Preview: ## Discussion\n",
      "\n",
      "To our knowledge, this is the first meta-analysis of factors influencing NEC in preterm infants in China to obtain an updated and thoro...\n",
      "\n"
     ]
    }
   ],
   "source": [
    "# Step 8: Test Corrective RAG with a single query\n",
    "print(\"Step 8: Testing Corrective RAG...\")\n",
    "print(\"=\" * 60)\n",
    "\n",
    "test_query = \"What are the research methods used in this study?\"\n",
    "result = corrective_rag_retrieval(test_query, max_iterations=3, top_k=5)\n",
    "\n",
    "print(f\"\\n{'='*70}\")\n",
    "print(\"TEST RESULTS\")\n",
    "print(f\"{'='*70}\")\n",
    "print(f\"Original Query: {result['query']}\")\n",
    "print(f\"Final Query: {result['final_query']}\")\n",
    "print(f\"Iterations: {result['iterations']}\")\n",
    "print(f\"Relevant Chunks: {result['total_found']}\")\n",
    "\n",
    "if result['relevant_chunks']:\n",
    "    print(f\"\\nTop chunks:\")\n",
    "    for i, chunk in enumerate(result['relevant_chunks'][:3], 1):\n",
    "        print(f\"{i}. {chunk['header'][:60]}...\")\n",
    "        print(f\"   Preview: {chunk['content'][:150]}...\\n\")"
   ]
  },
  {
   "cell_type": "code",
   "execution_count": 30,
   "metadata": {},
   "outputs": [
    {
     "data": {
      "text/plain": [
       "{'query': 'What are the research methods used in this study?',\n",
       " 'final_query': 'What research methodologies and approaches were employed in this investigation to collect and analyze data?',\n",
       " 'iterations': 2,\n",
       " 'relevant_chunks': [{'chunk_id': 'chunk_15',\n",
       "   'score': np.float64(0.5037165725314711),\n",
       "   'header': 'Chunk 16',\n",
       "   'content': ' LDA score for microbial pathways; E) histogram of the overall fecal metabolites and  PCA  as  inset. **P&lt;0.01. two-way  ANOVA  followed  by  a  two-stage  linear  step-up procedure  of  Benjamini. Krieger  and  Yekutieli  to  correct  for  multiple  comparisons  by controlling the False Discovery Rate (&lt;0.05); N=15 for H and N=4 for NEC-1. Fig. 2. Analysis of gut microbiota, microbiome and metabolome in the second decade of life in healthy vs. NEC-1 children. A) Gut microbiota analysis via LDA score between healthy (H) vs. NEC-1 children, in the second decade of life 11 to 20 days (d) ( the score is only shown for NEC-1 children meaning that no bacteria are significantly higher in the H group vs. NEC1 ); B) PCA of the gut microbiota; C) Indices of gut microbiota diversity; D) Null cladogram 437 Preprint not peer reviewed</p>\\n<p>442</p>\\n<p>452</p>\\n<p>453</p>\\n<p>454</p>\\n<p>455</p>\\n<p>456</p>\\n<p>457</p>\\n<p>458</p>\\n<p>459</p>\\n<p>460</p>\\n<p>461</p>\\n<p>for  microbial  pathways;  E)  histogram  of  the  overall  fecal  metabolites  and  PCA  as  inset. 438 **P&lt;0.01. ***P&lt;0.001. two-way ANOVA followed by a two-stage linear step-up procedure of 439 Benjamini. Krieger and Yekutieli to correct for multiple comparisons by controlling the False 440 Discovery Rate (&lt;0.05); N=14 for H and N=10 for NEC-1. 441 Fig. 3. A specific gut microbiota and microbiome exist in the third decade of life in healthy 443 vs. NEC-1  children. A)  Comparative  analysis  of  the  gut  microbiota  by  LDA  Effect  Size 444 (LEfSe): the cladogram shows bacterial taxa significantly higher in the group of children of the 445 same color, in the fecal microbiota between healthy (H) vs. NEC-1 children, in the third decade 446 of life 21 to 30 days (d) (the cladogram shows the taxonomic levels represented by rings with 447 phyla at the innermost and genera at the outermost ring and each circle is a bacterial member 448 within  that  level);  B)  LDA  score  used  to  build  the  cladogram  in  (A);  C)  PCA  of  the  gut 449 microbiota; D) Indices of gut microbiota diversity; E) LDA score for microbial pathways. N=13 450 for H and N=7 for NEC-1. 451 Fig. 4. Diseases, host genetic variation and metabolome analysis in the third decade of life during NEC-1. A) Diseases and B) host genetic variation linked to NEC-1_21-30d associated gut microbiota; C) histogram of the overall fecal metabolites and PCA as inset. N=13 for H and N=7 for NEC-1. Figure 5. Analysis of gut microbiota, predicted microbiome and metabolome in the second month of life  in  healthy  vs. NEC-1  children. A) Gut microbiota analysis via  LDA score between healthy (H) vs.',\n",
       "   'tags': ['<research_methods>', '<findings_conclusion>'],\n",
       "   'relevance_grade': {'relevant': True,\n",
       "    'score': 'high',\n",
       "    'reason': 'The chunk mentions specific statistical methods used in the study, such as two-way ANOVA and a two-stage linear step-up procedure, which directly relates to the query about research methods.'}},\n",
       "  {'chunk_id': 'chunk_4',\n",
       "   'score': np.float64(0.5),\n",
       "   'header': 'Chunk 5',\n",
       "   'content': 'e available about NEC-1 incidence. This 83 induces the end of alimentation, a prolonged (sometime life-lasting) parenteral nutrition, with 84 a  delayed  gut  maturation  and  failure  to  thrive(14). Therefore,  to  study  the  evolution  of  gut 85 microbiota and microbiome during the early onset of NEC, we focused on NEC-1 children 86 within the first two months of life. We studied fecal metabolome to understand how a change 87 in gut microbiota may drive alterations in intestinal metabolites. To further understand which 88 factor of mother and child may affect the evolution of gut microbiota, microbiome and fecal 89 metabolome during NEC-1, we  analysed:  presence  of  neonatal  antibiotherapy  (ABx),  ABx 90 treatment on the mother, childbirth (Cesarean-section [C-sec] vs. vaginal birth [VB]), very low 91 birth weight (VLBW), extreme low birth weight (ELBW) and gestational age (GA) &gt; or ≤28 92 weeks. 93 Materials and Methods Study design 96 Preprint not peer reviewed</p>\\n<table><tbody><tr><td>97</td><td>Cohort constitution . We conducted a prospective monocentric case-control cohort</td></tr><tr><td>98</td><td>study. This study was approved (number of the approval: DC 2016-2804) by Neonatal and</td></tr><tr><td>99</td><td>Pediatric Intensive Care Unit and Neonatology Department of Purpan Hospital in Toulouse,</td></tr><tr><td>100</td><td>France. The parents of the children involved in this study gave their approval by written</td></tr><tr><td>101</td><td>consensus. The inclusion criteria regarding all of the children hospitalised into the Neonatal and</td></tr><tr><td>102</td><td>Pediatric Intensive Care Unit or Neonatology Departments of the Purpan Hospital, were:</td></tr><tr><td>103</td><td>- newborn of gestational age under 34 weeks of gestation</td></tr><tr><td>104</td><td>- diagnosis of suspected necrotizing enterocolitis (NEC-1) made by a neonatalogist</td></tr><tr><td>105</td><td>- obtainment of the non-opposition from parents of their legal representative</td></tr><tr><td>106</td><td>Following the inclusion of every case, we conducted in parallel a search for two controls, peer</td></tr><tr><td>107</td><td>according to the following matching criteria, listed in decreasing priority:</td></tr><tr><td>108</td><td>- gestational age (±1 week of gestation, priority to matched age)</td></tr><tr><td>109</td><td>- body weight</td></tr><tr><td>110</td><td>- neonatal antibiotherapy</td></tr><tr><td>111</td><td>- childbirth (C-section vs.',\n",
       "   'tags': ['research_methods',\n",
       "    'methodology',\n",
       "    'study design',\n",
       "    'data collection'],\n",
       "   'relevance_grade': {'relevant': True,\n",
       "    'score': 'high',\n",
       "    'reason': \"The chunk discusses the study's methodology, including the focus on NEC-1 children, analysis of fecal metabolome, and factors affecting gut microbiota evolution, which directly addresses the query about research methods used in the study.\"}},\n",
       "  {'chunk_id': 'chunk_17',\n",
       "   'score': np.float64(0.4030041101084218),\n",
       "   'header': 'Chunk 18',\n",
       "   'content': 'and  Yekutieli  to  correct  for  multiple  comparisons  by controlling the False Discovery Rate (&lt;0.05). Fig.S4. Fecal metabolome progression over the first two months of life in healthy children. A)  histogram  of  the  overall  fecal  metabolites  and  PCA  as  inset;  B)  INTRA_H  pathwayassociated metabolite sets; C) INTRA_H  SNP-associated  metabolite  sets. ***P&lt;0.01, ****P&lt;0.0001,  two-way  ANOVA  followed  by  a  two-stage  linear  step-up  procedure  of Benjamini, Krieger and Yekutieli to correct for multiple comparisons by controlling the False Discovery Rate (&lt;0.05). Fig.S5. Maternal and child factors shaping gut microbiota and microbiome in healthy vs. NEC-1 children. Six factors were examined: neonatal antibiotics (ABx), ABx treatment on mother, C-section (C-sec) vs. vaginal birth (VB), very low birth weight (VLBW), extremely low birth weight (ELBW) and gestational age (GA) &gt; or ≤ 28 weeks (28w); A) Gut microbiota analysis via LDA score; B) to F) microbiome analysis via LDA score. P&lt;0.05 or P&lt;0.01 as indicated (B). Fig.S6. Maternal  and  child  factors  shaping  fecal  metabolome  in  healthy  vs. NEC-1 children. Six factors were examined: neonatal antibiotics (ABx), ABx treatment on mother, Csection (C-sec) vs. vaginal birth (VB), very low birth weight (VLBW), extremely low birth weight (ELBW) and gestational age (GA) &gt; or ≤ 28 weeks (28w). A) to F) histogram of the overall fecal metabolites. **P&lt;0.05, ***P&lt;0.01, ****P&lt;0.0001, two-way ANOVA followed by  a  two-stage  linear  step-up  procedure  of  Benjamini. Krieger  and  Yekutieli  to  correct  for Preprint not peer reviewed</p>\\n<p>508</p>\\n<p>510</p>\\n<p>multiple comparisons by controlling the False Discovery Rate (&lt;0.05). G) NEC-1_GA≤28w pathway-associated metabolite sets. 509 Preprint not peer reviewed</p>\\n<figure><figcaption><div data-annotation-kind=\"description\">The image presents a comprehensive analysis of the differences between two groups, H_1-10d and NEC-1_1-10d, across various biological and biochemical parameters. The data is visualized through a series of plots and charts, each providing insights into distinct aspects of the comparison.\\n\\n**Plot A: LDA Score (log 10) for Bacteria**\\n- This plot compares the LDA scores for bacteria between the two groups.\\n- The x-axis represents the LDA score on a log10 scale.\\n- The y-axis lists different types of bacteria.\\n- The plot shows that H_1-10d has higher LDA scores for most bacteria types compared to NEC-1_1-10d.\\n\\n**Plot B: P=0.023**\\n- This appears to be a principal component analysis (PCA) plot showing the distribution of samples from both groups in a two-dimensional space.\\n- The x-axis represents Component 1 (31.8%), and the y-axis represents Component 2 (38.9%).\\n- The plot indicates a significant difference between the two groups, with a p-value of 0.023.',\n",
       "   'tags': ['<research_methods>', '<findings_conclusion>'],\n",
       "   'relevance_grade': {'relevant': True,\n",
       "    'score': 'high',\n",
       "    'reason': 'The chunk mentions specific statistical methods, such as two-way ANOVA and a two-stage linear step-up procedure, which are relevant to research methods used in the study.'}}],\n",
       " 'total_found': 3}"
      ]
     },
     "execution_count": 30,
     "metadata": {},
     "output_type": "execute_result"
    }
   ],
   "source": [
    "result"
   ]
  },
  {
   "cell_type": "code",
   "execution_count": 46,
   "metadata": {},
   "outputs": [
    {
     "name": "stdout",
     "output_type": "stream",
     "text": [
      "Step 9: Running complete extraction...\n",
      "============================================================\n",
      "\n",
      "======================================================================\n",
      "COMPLETE DOCUMENT EXTRACTION\n",
      "======================================================================\n",
      "\n",
      "\n",
      "──────────────────────────────────────────────────────────────────────\n",
      "EXTRACTING: SUMMARY\n",
      "──────────────────────────────────────────────────────────────────────\n",
      "\n",
      "======================================================================\n",
      "Query: What is the abstract, main purpose, and overview of this paper?\n",
      "======================================================================\n",
      "\n",
      "🔄 Iteration 1: 'What is the abstract, main purpose, and overview of this paper?'\n",
      "  📊 Grading 5 chunks...\n"
     ]
    },
    {
     "name": "stderr",
     "output_type": "stream",
     "text": [
      "2025-10-04 06:12:50,271 - INFO - HTTP Request: POST https://api.groq.com/openai/v1/chat/completions \"HTTP/1.1 200 OK\"\n"
     ]
    },
    {
     "name": "stdout",
     "output_type": "stream",
     "text": [
      "    ✅ Conclusion... - MEDIUM\n"
     ]
    },
    {
     "name": "stderr",
     "output_type": "stream",
     "text": [
      "2025-10-04 06:12:50,963 - INFO - HTTP Request: POST https://api.groq.com/openai/v1/chat/completions \"HTTP/1.1 200 OK\"\n"
     ]
    },
    {
     "name": "stdout",
     "output_type": "stream",
     "text": [
      "    ❌ Data synthesis and statistical analysis + Study se... - Rejected\n"
     ]
    },
    {
     "name": "stderr",
     "output_type": "stream",
     "text": [
      "2025-10-04 06:12:51,554 - INFO - HTTP Request: POST https://api.groq.com/openai/v1/chat/completions \"HTTP/1.1 200 OK\"\n"
     ]
    },
    {
     "name": "stdout",
     "output_type": "stream",
     "text": [
      "    ❌ Introduction (Part 1)... - Rejected\n"
     ]
    },
    {
     "name": "stderr",
     "output_type": "stream",
     "text": [
      "2025-10-04 06:12:52,174 - INFO - HTTP Request: POST https://api.groq.com/openai/v1/chat/completions \"HTTP/1.1 200 OK\"\n"
     ]
    },
    {
     "name": "stdout",
     "output_type": "stream",
     "text": [
      "    ❌ Sensitivity analysis and publication bias (Part 1)... - Rejected\n"
     ]
    },
    {
     "name": "stderr",
     "output_type": "stream",
     "text": [
      "2025-10-04 06:12:52,766 - INFO - HTTP Request: POST https://api.groq.com/openai/v1/chat/completions \"HTTP/1.1 200 OK\"\n"
     ]
    },
    {
     "name": "stdout",
     "output_type": "stream",
     "text": [
      "    ❌ Inclusion and exclusion criteria... - Rejected\n",
      "  📈 Found 1 relevant (Total: 1)\n",
      "  🔄 Rewriting query...\n"
     ]
    },
    {
     "name": "stderr",
     "output_type": "stream",
     "text": [
      "2025-10-04 06:12:53,310 - INFO - HTTP Request: POST https://api.groq.com/openai/v1/chat/completions \"HTTP/1.1 200 OK\"\n"
     ]
    },
    {
     "name": "stdout",
     "output_type": "stream",
     "text": [
      "🔄 Iteration 2: ''\n",
      "  📊 Grading 5 chunks...\n"
     ]
    },
    {
     "name": "stderr",
     "output_type": "stream",
     "text": [
      "2025-10-04 06:12:54,114 - INFO - HTTP Request: POST https://api.groq.com/openai/v1/chat/completions \"HTTP/1.1 200 OK\"\n"
     ]
    },
    {
     "name": "stdout",
     "output_type": "stream",
     "text": [
      "    ❌ Sensitivity analysis and publication bias (Part 1)... - Rejected\n"
     ]
    },
    {
     "name": "stderr",
     "output_type": "stream",
     "text": [
      "2025-10-04 06:12:54,728 - INFO - HTTP Request: POST https://api.groq.com/openai/v1/chat/completions \"HTTP/1.1 200 OK\"\n"
     ]
    },
    {
     "name": "stdout",
     "output_type": "stream",
     "text": [
      "    ❌ Inclusion and exclusion criteria... - Rejected\n"
     ]
    },
    {
     "name": "stderr",
     "output_type": "stream",
     "text": [
      "2025-10-04 06:12:55,322 - INFO - HTTP Request: POST https://api.groq.com/openai/v1/chat/completions \"HTTP/1.1 200 OK\"\n"
     ]
    },
    {
     "name": "stdout",
     "output_type": "stream",
     "text": [
      "    ❌ Search strategy... - Rejected\n"
     ]
    },
    {
     "name": "stderr",
     "output_type": "stream",
     "text": [
      "2025-10-04 06:12:56,733 - INFO - HTTP Request: POST https://api.groq.com/openai/v1/chat/completions \"HTTP/1.1 200 OK\"\n"
     ]
    },
    {
     "name": "stdout",
     "output_type": "stream",
     "text": [
      "    ❌ Introduction (Part 1)... - Rejected\n"
     ]
    },
    {
     "name": "stderr",
     "output_type": "stream",
     "text": [
      "2025-10-04 06:12:57,474 - INFO - HTTP Request: POST https://api.groq.com/openai/v1/chat/completions \"HTTP/1.1 200 OK\"\n"
     ]
    },
    {
     "name": "stdout",
     "output_type": "stream",
     "text": [
      "    ✅ Factors influencing necrotizing enterocolitis in p... - HIGH\n",
      "  📈 Found 1 relevant (Total: 2)\n",
      "\n",
      "──────────────────────────────────────────────────────────────────────\n",
      "EXTRACTING: METHODS\n",
      "──────────────────────────────────────────────────────────────────────\n",
      "\n",
      "======================================================================\n",
      "Query: What research methods, study design, and analytical approaches were used?\n",
      "======================================================================\n",
      "\n",
      "🔄 Iteration 1: 'What research methods, study design, and analytical approaches were used?'\n",
      "  📊 Grading 5 chunks...\n"
     ]
    },
    {
     "name": "stderr",
     "output_type": "stream",
     "text": [
      "2025-10-04 06:12:58,446 - INFO - HTTP Request: POST https://api.groq.com/openai/v1/chat/completions \"HTTP/1.1 200 OK\"\n"
     ]
    },
    {
     "name": "stdout",
     "output_type": "stream",
     "text": [
      "    ✅ Data synthesis and statistical analysis + Study se... - HIGH\n"
     ]
    },
    {
     "name": "stderr",
     "output_type": "stream",
     "text": [
      "2025-10-04 06:12:59,623 - INFO - HTTP Request: POST https://api.groq.com/openai/v1/chat/completions \"HTTP/1.1 200 OK\"\n"
     ]
    },
    {
     "name": "stdout",
     "output_type": "stream",
     "text": [
      "    ❌ Introduction (Part 1)... - Rejected\n"
     ]
    },
    {
     "name": "stderr",
     "output_type": "stream",
     "text": [
      "2025-10-04 06:13:00,248 - INFO - HTTP Request: POST https://api.groq.com/openai/v1/chat/completions \"HTTP/1.1 200 OK\"\n"
     ]
    },
    {
     "name": "stdout",
     "output_type": "stream",
     "text": [
      "    ❌ Discussion... - Rejected\n"
     ]
    },
    {
     "name": "stderr",
     "output_type": "stream",
     "text": [
      "2025-10-04 06:13:00,899 - INFO - HTTP Request: POST https://api.groq.com/openai/v1/chat/completions \"HTTP/1.1 200 OK\"\n"
     ]
    },
    {
     "name": "stdout",
     "output_type": "stream",
     "text": [
      "    ❌ Data extraction and quality assessment... - Rejected\n"
     ]
    },
    {
     "name": "stderr",
     "output_type": "stream",
     "text": [
      "2025-10-04 06:13:02,392 - INFO - HTTP Request: POST https://api.groq.com/openai/v1/chat/completions \"HTTP/1.1 200 OK\"\n"
     ]
    },
    {
     "name": "stdout",
     "output_type": "stream",
     "text": [
      "    ✅ Inclusion and exclusion criteria... - MEDIUM\n",
      "  📈 Found 2 relevant (Total: 2)\n",
      "  🔄 Rewriting query...\n"
     ]
    },
    {
     "name": "stderr",
     "output_type": "stream",
     "text": [
      "2025-10-04 06:13:02,909 - INFO - HTTP Request: POST https://api.groq.com/openai/v1/chat/completions \"HTTP/1.1 200 OK\"\n"
     ]
    },
    {
     "name": "stdout",
     "output_type": "stream",
     "text": [
      "🔄 Iteration 2: ''\n",
      "  📊 Grading 5 chunks...\n"
     ]
    },
    {
     "name": "stderr",
     "output_type": "stream",
     "text": [
      "2025-10-04 06:13:03,767 - INFO - HTTP Request: POST https://api.groq.com/openai/v1/chat/completions \"HTTP/1.1 200 OK\"\n"
     ]
    },
    {
     "name": "stdout",
     "output_type": "stream",
     "text": [
      "    ✅ Sensitivity analysis and publication bias (Part 1)... - MEDIUM\n"
     ]
    },
    {
     "name": "stderr",
     "output_type": "stream",
     "text": [
      "2025-10-04 06:13:04,711 - INFO - HTTP Request: POST https://api.groq.com/openai/v1/chat/completions \"HTTP/1.1 200 OK\"\n"
     ]
    },
    {
     "name": "stdout",
     "output_type": "stream",
     "text": [
      "    ❌ Inclusion and exclusion criteria... - Rejected\n"
     ]
    },
    {
     "name": "stderr",
     "output_type": "stream",
     "text": [
      "2025-10-04 06:13:05,391 - INFO - HTTP Request: POST https://api.groq.com/openai/v1/chat/completions \"HTTP/1.1 200 OK\"\n"
     ]
    },
    {
     "name": "stdout",
     "output_type": "stream",
     "text": [
      "    ❌ Search strategy... - Rejected\n"
     ]
    },
    {
     "name": "stderr",
     "output_type": "stream",
     "text": [
      "2025-10-04 06:13:06,047 - INFO - HTTP Request: POST https://api.groq.com/openai/v1/chat/completions \"HTTP/1.1 200 OK\"\n",
      "2025-10-04 06:13:06,107 - INFO - HTTP Request: POST https://api.groq.com/openai/v1/chat/completions \"HTTP/1.1 429 Too Many Requests\"\n",
      "2025-10-04 06:13:06,109 - INFO - Retrying request to /openai/v1/chat/completions in 2.000000 seconds\n"
     ]
    },
    {
     "name": "stdout",
     "output_type": "stream",
     "text": [
      "    ❌ Introduction (Part 1)... - Rejected\n"
     ]
    },
    {
     "name": "stderr",
     "output_type": "stream",
     "text": [
      "2025-10-04 06:13:08,706 - INFO - HTTP Request: POST https://api.groq.com/openai/v1/chat/completions \"HTTP/1.1 200 OK\"\n"
     ]
    },
    {
     "name": "stdout",
     "output_type": "stream",
     "text": [
      "    ✅ Factors influencing necrotizing enterocolitis in p... - HIGH\n",
      "  📈 Found 2 relevant (Total: 4)\n",
      "\n",
      "✅ SUCCESS: 4 relevant chunks!\n",
      "\n",
      "──────────────────────────────────────────────────────────────────────\n",
      "EXTRACTING: FINDINGS\n",
      "──────────────────────────────────────────────────────────────────────\n",
      "\n",
      "======================================================================\n",
      "Query: What are the key findings, results, and conclusions?\n",
      "======================================================================\n",
      "\n",
      "🔄 Iteration 1: 'What are the key findings, results, and conclusions?'\n",
      "  📊 Grading 5 chunks...\n"
     ]
    },
    {
     "name": "stderr",
     "output_type": "stream",
     "text": [
      "2025-10-04 06:13:08,970 - INFO - HTTP Request: POST https://api.groq.com/openai/v1/chat/completions \"HTTP/1.1 429 Too Many Requests\"\n",
      "2025-10-04 06:13:08,972 - INFO - Retrying request to /openai/v1/chat/completions in 3.000000 seconds\n",
      "2025-10-04 06:13:12,633 - INFO - HTTP Request: POST https://api.groq.com/openai/v1/chat/completions \"HTTP/1.1 200 OK\"\n",
      "2025-10-04 06:13:12,690 - INFO - HTTP Request: POST https://api.groq.com/openai/v1/chat/completions \"HTTP/1.1 429 Too Many Requests\"\n",
      "2025-10-04 06:13:12,692 - INFO - Retrying request to /openai/v1/chat/completions in 3.000000 seconds\n"
     ]
    },
    {
     "name": "stdout",
     "output_type": "stream",
     "text": [
      "    ❌ Data synthesis and statistical analysis + Study se... - Rejected\n"
     ]
    },
    {
     "name": "stderr",
     "output_type": "stream",
     "text": [
      "2025-10-04 06:13:16,200 - INFO - HTTP Request: POST https://api.groq.com/openai/v1/chat/completions \"HTTP/1.1 200 OK\"\n",
      "2025-10-04 06:13:16,256 - INFO - HTTP Request: POST https://api.groq.com/openai/v1/chat/completions \"HTTP/1.1 429 Too Many Requests\"\n",
      "2025-10-04 06:13:16,259 - INFO - Retrying request to /openai/v1/chat/completions in 4.000000 seconds\n"
     ]
    },
    {
     "name": "stdout",
     "output_type": "stream",
     "text": [
      "    ❌ Study characteristics and qualit y... - Rejected\n"
     ]
    },
    {
     "name": "stderr",
     "output_type": "stream",
     "text": [
      "2025-10-04 06:13:20,845 - INFO - HTTP Request: POST https://api.groq.com/openai/v1/chat/completions \"HTTP/1.1 200 OK\"\n",
      "2025-10-04 06:13:20,910 - INFO - HTTP Request: POST https://api.groq.com/openai/v1/chat/completions \"HTTP/1.1 429 Too Many Requests\"\n",
      "2025-10-04 06:13:20,911 - INFO - Retrying request to /openai/v1/chat/completions in 3.000000 seconds\n"
     ]
    },
    {
     "name": "stdout",
     "output_type": "stream",
     "text": [
      "    ✅ Risk factors for NEC... - HIGH\n"
     ]
    },
    {
     "name": "stderr",
     "output_type": "stream",
     "text": [
      "2025-10-04 06:13:24,538 - INFO - HTTP Request: POST https://api.groq.com/openai/v1/chat/completions \"HTTP/1.1 200 OK\"\n",
      "2025-10-04 06:13:24,749 - INFO - HTTP Request: POST https://api.groq.com/openai/v1/chat/completions \"HTTP/1.1 429 Too Many Requests\"\n"
     ]
    },
    {
     "name": "stdout",
     "output_type": "stream",
     "text": [
      "    ❌ Sensitivity analysis and publication bias (Part 1)... - Rejected\n"
     ]
    },
    {
     "name": "stderr",
     "output_type": "stream",
     "text": [
      "2025-10-04 06:13:24,761 - INFO - Retrying request to /openai/v1/chat/completions in 3.000000 seconds\n",
      "2025-10-04 06:13:28,445 - INFO - HTTP Request: POST https://api.groq.com/openai/v1/chat/completions \"HTTP/1.1 200 OK\"\n",
      "2025-10-04 06:13:28,501 - INFO - HTTP Request: POST https://api.groq.com/openai/v1/chat/completions \"HTTP/1.1 429 Too Many Requests\"\n",
      "2025-10-04 06:13:28,502 - INFO - Retrying request to /openai/v1/chat/completions in 1.000000 seconds\n"
     ]
    },
    {
     "name": "stdout",
     "output_type": "stream",
     "text": [
      "    ✅ Protect factors for NEC (Part 2)... - HIGH\n",
      "  📈 Found 2 relevant (Total: 2)\n",
      "  🔄 Rewriting query...\n"
     ]
    },
    {
     "name": "stderr",
     "output_type": "stream",
     "text": [
      "2025-10-04 06:13:31,128 - INFO - HTTP Request: POST https://api.groq.com/openai/v1/chat/completions \"HTTP/1.1 200 OK\"\n"
     ]
    },
    {
     "name": "stdout",
     "output_type": "stream",
     "text": [
      "🔄 Iteration 2: ''\n",
      "  📊 Grading 5 chunks...\n"
     ]
    },
    {
     "name": "stderr",
     "output_type": "stream",
     "text": [
      "2025-10-04 06:13:31,552 - INFO - HTTP Request: POST https://api.groq.com/openai/v1/chat/completions \"HTTP/1.1 429 Too Many Requests\"\n",
      "2025-10-04 06:13:31,553 - INFO - Retrying request to /openai/v1/chat/completions in 1.000000 seconds\n",
      "2025-10-04 06:13:33,272 - INFO - HTTP Request: POST https://api.groq.com/openai/v1/chat/completions \"HTTP/1.1 200 OK\"\n",
      "2025-10-04 06:13:33,334 - INFO - HTTP Request: POST https://api.groq.com/openai/v1/chat/completions \"HTTP/1.1 429 Too Many Requests\"\n",
      "2025-10-04 06:13:33,346 - INFO - Retrying request to /openai/v1/chat/completions in 3.000000 seconds\n"
     ]
    },
    {
     "name": "stdout",
     "output_type": "stream",
     "text": [
      "    ❌ Sensitivity analysis and publication bias (Part 1)... - Rejected\n"
     ]
    },
    {
     "name": "stderr",
     "output_type": "stream",
     "text": [
      "2025-10-04 06:13:37,186 - INFO - HTTP Request: POST https://api.groq.com/openai/v1/chat/completions \"HTTP/1.1 200 OK\"\n",
      "2025-10-04 06:13:37,255 - INFO - HTTP Request: POST https://api.groq.com/openai/v1/chat/completions \"HTTP/1.1 429 Too Many Requests\"\n",
      "2025-10-04 06:13:37,256 - INFO - Retrying request to /openai/v1/chat/completions in 4.000000 seconds\n"
     ]
    },
    {
     "name": "stdout",
     "output_type": "stream",
     "text": [
      "    ❌ Inclusion and exclusion criteria... - Rejected\n"
     ]
    },
    {
     "name": "stderr",
     "output_type": "stream",
     "text": [
      "2025-10-04 06:13:41,947 - INFO - HTTP Request: POST https://api.groq.com/openai/v1/chat/completions \"HTTP/1.1 200 OK\"\n",
      "2025-10-04 06:13:42,006 - INFO - HTTP Request: POST https://api.groq.com/openai/v1/chat/completions \"HTTP/1.1 429 Too Many Requests\"\n",
      "2025-10-04 06:13:42,007 - INFO - Retrying request to /openai/v1/chat/completions in 3.000000 seconds\n"
     ]
    },
    {
     "name": "stdout",
     "output_type": "stream",
     "text": [
      "    ❌ Search strategy... - Rejected\n"
     ]
    },
    {
     "name": "stderr",
     "output_type": "stream",
     "text": [
      "2025-10-04 06:13:45,875 - INFO - HTTP Request: POST https://api.groq.com/openai/v1/chat/completions \"HTTP/1.1 200 OK\"\n",
      "2025-10-04 06:13:45,942 - INFO - HTTP Request: POST https://api.groq.com/openai/v1/chat/completions \"HTTP/1.1 429 Too Many Requests\"\n",
      "2025-10-04 06:13:45,943 - INFO - Retrying request to /openai/v1/chat/completions in 3.000000 seconds\n"
     ]
    },
    {
     "name": "stdout",
     "output_type": "stream",
     "text": [
      "    ❌ Introduction (Part 1)... - Rejected\n"
     ]
    },
    {
     "name": "stderr",
     "output_type": "stream",
     "text": [
      "2025-10-04 06:13:49,598 - INFO - HTTP Request: POST https://api.groq.com/openai/v1/chat/completions \"HTTP/1.1 200 OK\"\n"
     ]
    },
    {
     "name": "stdout",
     "output_type": "stream",
     "text": [
      "    ❌ Factors influencing necrotizing enterocolitis in p... - Rejected\n",
      "  📈 Found 0 relevant (Total: 2)\n",
      "\n",
      "──────────────────────────────────────────────────────────────────────\n",
      "EXTRACTING: TYPE\n",
      "──────────────────────────────────────────────────────────────────────\n",
      "\n",
      "======================================================================\n",
      "Query: What type of document is this? Ex. case study, clinical trial, review article, meta-analysis, research article, technical workshop paper, etc.\n",
      "======================================================================\n",
      "\n",
      "🔄 Iteration 1: 'What type of document is this? Ex. case study, clinical trial, review article, meta-analysis, research article, technical workshop paper, etc.'\n"
     ]
    },
    {
     "name": "stderr",
     "output_type": "stream",
     "text": [
      "2025-10-04 06:13:49,894 - INFO - HTTP Request: POST https://api.groq.com/openai/v1/chat/completions \"HTTP/1.1 429 Too Many Requests\"\n",
      "2025-10-04 06:13:49,895 - INFO - Retrying request to /openai/v1/chat/completions in 5.000000 seconds\n"
     ]
    },
    {
     "name": "stdout",
     "output_type": "stream",
     "text": [
      "  📊 Grading 5 chunks...\n"
     ]
    },
    {
     "name": "stderr",
     "output_type": "stream",
     "text": [
      "2025-10-04 06:13:56,035 - INFO - HTTP Request: POST https://api.groq.com/openai/v1/chat/completions \"HTTP/1.1 200 OK\"\n",
      "2025-10-04 06:13:56,094 - INFO - HTTP Request: POST https://api.groq.com/openai/v1/chat/completions \"HTTP/1.1 429 Too Many Requests\"\n",
      "2025-10-04 06:13:56,095 - INFO - Retrying request to /openai/v1/chat/completions in 3.000000 seconds\n"
     ]
    },
    {
     "name": "stdout",
     "output_type": "stream",
     "text": [
      "    ❌ Risk factors... - Rejected\n"
     ]
    },
    {
     "name": "stderr",
     "output_type": "stream",
     "text": [
      "2025-10-04 06:13:59,792 - INFO - HTTP Request: POST https://api.groq.com/openai/v1/chat/completions \"HTTP/1.1 200 OK\"\n",
      "2025-10-04 06:13:59,844 - INFO - HTTP Request: POST https://api.groq.com/openai/v1/chat/completions \"HTTP/1.1 429 Too Many Requests\"\n",
      "2025-10-04 06:13:59,845 - INFO - Retrying request to /openai/v1/chat/completions in 3.000000 seconds\n"
     ]
    },
    {
     "name": "stdout",
     "output_type": "stream",
     "text": [
      "    ❌ Introduction (Part 2)... - Rejected\n"
     ]
    },
    {
     "name": "stderr",
     "output_type": "stream",
     "text": [
      "2025-10-04 06:14:03,504 - INFO - HTTP Request: POST https://api.groq.com/openai/v1/chat/completions \"HTTP/1.1 200 OK\"\n",
      "2025-10-04 06:14:03,559 - INFO - HTTP Request: POST https://api.groq.com/openai/v1/chat/completions \"HTTP/1.1 429 Too Many Requests\"\n",
      "2025-10-04 06:14:03,560 - INFO - Retrying request to /openai/v1/chat/completions in 3.000000 seconds\n"
     ]
    },
    {
     "name": "stdout",
     "output_type": "stream",
     "text": [
      "    ❌ Introduction (Part 1)... - Rejected\n"
     ]
    },
    {
     "name": "stderr",
     "output_type": "stream",
     "text": [
      "2025-10-04 06:14:07,162 - INFO - HTTP Request: POST https://api.groq.com/openai/v1/chat/completions \"HTTP/1.1 200 OK\"\n",
      "2025-10-04 06:14:07,217 - INFO - HTTP Request: POST https://api.groq.com/openai/v1/chat/completions \"HTTP/1.1 429 Too Many Requests\"\n",
      "2025-10-04 06:14:07,219 - INFO - Retrying request to /openai/v1/chat/completions in 4.000000 seconds\n"
     ]
    },
    {
     "name": "stdout",
     "output_type": "stream",
     "text": [
      "    ❌ Data synthesis and statistical analysis + Study se... - Rejected\n"
     ]
    },
    {
     "name": "stderr",
     "output_type": "stream",
     "text": [
      "2025-10-04 06:14:12,116 - INFO - HTTP Request: POST https://api.groq.com/openai/v1/chat/completions \"HTTP/1.1 200 OK\"\n",
      "2025-10-04 06:14:12,174 - INFO - HTTP Request: POST https://api.groq.com/openai/v1/chat/completions \"HTTP/1.1 429 Too Many Requests\"\n",
      "2025-10-04 06:14:12,174 - INFO - Retrying request to /openai/v1/chat/completions in 1.000000 seconds\n"
     ]
    },
    {
     "name": "stdout",
     "output_type": "stream",
     "text": [
      "    ❌ Sensitivity analysis and publication bias (Part 2)... - Rejected\n",
      "  📈 Found 0 relevant (Total: 0)\n",
      "  🔄 Rewriting query...\n"
     ]
    },
    {
     "name": "stderr",
     "output_type": "stream",
     "text": [
      "2025-10-04 06:14:13,682 - INFO - HTTP Request: POST https://api.groq.com/openai/v1/chat/completions \"HTTP/1.1 200 OK\"\n"
     ]
    },
    {
     "name": "stdout",
     "output_type": "stream",
     "text": [
      "🔄 Iteration 2: ''\n"
     ]
    },
    {
     "name": "stderr",
     "output_type": "stream",
     "text": [
      "2025-10-04 06:14:13,988 - INFO - HTTP Request: POST https://api.groq.com/openai/v1/chat/completions \"HTTP/1.1 429 Too Many Requests\"\n",
      "2025-10-04 06:14:14,000 - INFO - Retrying request to /openai/v1/chat/completions in 3.000000 seconds\n"
     ]
    },
    {
     "name": "stdout",
     "output_type": "stream",
     "text": [
      "  📊 Grading 5 chunks...\n"
     ]
    },
    {
     "name": "stderr",
     "output_type": "stream",
     "text": [
      "2025-10-04 06:14:17,635 - INFO - HTTP Request: POST https://api.groq.com/openai/v1/chat/completions \"HTTP/1.1 200 OK\"\n",
      "2025-10-04 06:14:17,700 - INFO - HTTP Request: POST https://api.groq.com/openai/v1/chat/completions \"HTTP/1.1 429 Too Many Requests\"\n",
      "2025-10-04 06:14:17,704 - INFO - Retrying request to /openai/v1/chat/completions in 3.000000 seconds\n"
     ]
    },
    {
     "name": "stdout",
     "output_type": "stream",
     "text": [
      "    ❌ Sensitivity analysis and publication bias (Part 1)... - Rejected\n"
     ]
    },
    {
     "name": "stderr",
     "output_type": "stream",
     "text": [
      "2025-10-04 06:14:22,461 - INFO - HTTP Request: POST https://api.groq.com/openai/v1/chat/completions \"HTTP/1.1 200 OK\"\n",
      "2025-10-04 06:14:22,516 - INFO - HTTP Request: POST https://api.groq.com/openai/v1/chat/completions \"HTTP/1.1 429 Too Many Requests\"\n",
      "2025-10-04 06:14:22,516 - INFO - Retrying request to /openai/v1/chat/completions in 2.000000 seconds\n"
     ]
    },
    {
     "name": "stdout",
     "output_type": "stream",
     "text": [
      "    ❌ Inclusion and exclusion criteria... - Rejected\n"
     ]
    },
    {
     "name": "stderr",
     "output_type": "stream",
     "text": [
      "2025-10-04 06:14:25,163 - INFO - HTTP Request: POST https://api.groq.com/openai/v1/chat/completions \"HTTP/1.1 200 OK\"\n",
      "2025-10-04 06:14:25,274 - INFO - HTTP Request: POST https://api.groq.com/openai/v1/chat/completions \"HTTP/1.1 429 Too Many Requests\"\n",
      "2025-10-04 06:14:25,275 - INFO - Retrying request to /openai/v1/chat/completions in 4.000000 seconds\n"
     ]
    },
    {
     "name": "stdout",
     "output_type": "stream",
     "text": [
      "    ✅ Search strategy... - HIGH\n"
     ]
    },
    {
     "name": "stderr",
     "output_type": "stream",
     "text": [
      "2025-10-04 06:14:29,887 - INFO - HTTP Request: POST https://api.groq.com/openai/v1/chat/completions \"HTTP/1.1 200 OK\"\n",
      "2025-10-04 06:14:29,950 - INFO - HTTP Request: POST https://api.groq.com/openai/v1/chat/completions \"HTTP/1.1 429 Too Many Requests\"\n",
      "2025-10-04 06:14:29,953 - INFO - Retrying request to /openai/v1/chat/completions in 3.000000 seconds\n"
     ]
    },
    {
     "name": "stdout",
     "output_type": "stream",
     "text": [
      "    ❌ Introduction (Part 1)... - Rejected\n"
     ]
    },
    {
     "name": "stderr",
     "output_type": "stream",
     "text": [
      "2025-10-04 06:14:33,655 - INFO - HTTP Request: POST https://api.groq.com/openai/v1/chat/completions \"HTTP/1.1 200 OK\"\n",
      "2025-10-04 06:14:33,715 - INFO - HTTP Request: POST https://api.groq.com/openai/v1/chat/completions \"HTTP/1.1 429 Too Many Requests\"\n",
      "2025-10-04 06:14:33,716 - INFO - Retrying request to /openai/v1/chat/completions in 29.000000 seconds\n"
     ]
    },
    {
     "name": "stdout",
     "output_type": "stream",
     "text": [
      "    ✅ Factors influencing necrotizing enterocolitis in p... - HIGH\n",
      "  📈 Found 2 relevant (Total: 2)\n",
      "\n",
      "======================================================================\n",
      "GENERATING FINAL EXTRACTION...\n",
      "======================================================================\n",
      "\n"
     ]
    },
    {
     "name": "stderr",
     "output_type": "stream",
     "text": [
      "2025-10-04 06:15:05,960 - INFO - HTTP Request: POST https://api.groq.com/openai/v1/chat/completions \"HTTP/1.1 200 OK\"\n"
     ]
    },
    {
     "name": "stdout",
     "output_type": "stream",
     "text": [
      "======================================================================\n",
      "FINAL EXTRACTION\n",
      "======================================================================\n",
      "Document Information  \n",
      "Authors: Aihua Wang, Xinghui Cui, Huimin Jiang (and co‑authors Shuliang Zhao, Yiqun Miao, Wenwen Liu, Yanan Li, Hui Liu, Yuanyuan Zhang)  \n",
      "Date: 2024 (published online February 2023, data collection up to February 2023)  \n",
      "Document Type: Systematic review and meta‑analysis  \n",
      "\n",
      "Document Summary  \n",
      "This study systematically reviewed Chinese literature to identify risk and protective factors for necrotizing enterocolitis (NEC) in preterm infants. By pooling data from 38 case‑control or cohort studies (total n = 8 616 infants), the authors quantified the association of each factor with NEC using odds ratios (ORs) and evaluated the robustness of the findings through sensitivity and publication‑bias analyses.  \n",
      "\n",
      "Research Methods  \n",
      "- Study design: Systematic review and meta‑analysis of observational case‑control and cohort studies.  \n",
      "- Data sources: PubMed, Embase, Web of Science, Cochrane Library, CNKI, CBM, Wanfang, and VIP databases searched from inception to February 2023.  \n",
      "- Selection criteria: Chinese preterm infants (gestational age < 37 weeks, birth weight < 2500 g) with NEC stage II or higher (Bell criteria). Included studies had a control group of preterm infants without NEC and reported quantitative data on potential risk or protective factors. Excluded conference abstracts, case reports, reviews, studies without control groups, incomplete data, or duplicate publications.  \n",
      "- Sample size: 38 eligible studies comprising 2 456 NEC cases and 6 160 controls (total 8 616 infants).  \n",
      "- Data extraction: Two reviewers independently extracted study characteristics, exposure variables, and outcome data. Quality was assessed with the Newcastle‑Ottawa Scale.  \n",
      "- Statistical analysis: Heterogeneity evaluated with χ² test and I² statistic (α = 0.1). Fixed‑effects model used when I² < 50 %; random‑effects model applied otherwise. Both models were reported for each factor. Sensitivity analysis performed by omitting each study in turn. Publication bias examined with funnel plots and Egger’s test (P < 0.05 considered significant). Analyses conducted in Stata 14.0; significance set at P < 0.05.  \n",
      "\n",
      "Key Findings and Conclusions  \n",
      "Risk factors (all with statistically significant increased odds of NEC):  \n",
      "- Septicemia: OR ≈ 3.9 (fixed) / 4.3 (random)  \n",
      "- Blood transfusion: OR ≈ 2.4 (fixed) / 2.8 (random)  \n",
      "- Neonatal asphyxia: OR ≈ 2.5 (fixed) / 2.8 (random)  \n",
      "- Pneumonia: OR ≈ 6.2 (both models)  \n",
      "- General infection: OR ≈ 6.0 (fixed) / 6.7 (random)  \n",
      "- Congenital heart disease: OR ≈ 4.8 (both models)  \n",
      "- Intrahepatic cholestasis of pregnancy (ICP): OR ≈ 2.7 (both models)  \n",
      "- Mechanical ventilation: OR ≈ 1.44 (both models)  \n",
      "- Gestational diabetes mellitus (GDM): OR ≈ 3.1 (both models)  \n",
      "- Respiratory distress syndrome (RDS): OR ≈ 3.3 (both models)  \n",
      "- Hypoalbuminemia (hypoproteinemia): OR ≈ 2.8 (reported in text)  \n",
      "- Patent ductus arteriosus (PDA): OR ≈ 3.1 (reported in text)  \n",
      "- Respiratory failure: OR ≈ 7.5 (reported in text)  \n",
      "- Severe anemia: OR ≈ 2.9 (reported in text)  \n",
      "- History of antibiotic use: OR ≈ 2.1 (reported in text)  \n",
      "- Meconium‑stained amniotic fluid (MSAF): OR ≈ 3.1 (reported in text)  \n",
      "\n",
      "Protective factors (OR < 1, indicating reduced risk):  \n",
      "- Breastfeeding: OR ≈ 0.49 (fixed) / 0.31 (random)  \n",
      "- Oral probiotics: OR ≈ 0.70 (fixed) / 0.36 (random)  \n",
      "- Prenatal administration of glucocorticoids: OR ≈ 0.38 (fixed)  \n",
      "\n",
      "Egger’s test identified significant publication bias for septicemia, blood transfusion, intrahepatic cholestasis of pregnancy, and mechanical ventilation (P < 0.05); other factors showed no significant bias. Sensitivity analyses demonstrated that the pooled estimates were stable after sequential removal of individual studies, except for a few high‑heterogeneity variables where both fixed and random models were presented.  \n",
      "\n",
      "Conclusions  \n",
      "The meta‑analysis identifies a broad set of maternal, perinatal, and neonatal variables that markedly increase the likelihood of NEC in Chinese preterm infants, while breastfeeding, probiotic supplementation, and antenatal glucocorticoid therapy appear protective. These findings provide evidence‑based targets for clinical prevention strategies and underscore the need for vigilant monitoring of infants exposed to the identified risk factors. This work represents the first comprehensive quantitative synthesis of NEC risk and protective factors specific to the Chinese preterm population.\n",
      "======================================================================\n",
      "\n",
      "Statistics:\n",
      "  Summary chunks: 2\n",
      "  Methods chunks: 4\n",
      "  Findings chunks: 2\n",
      "  Total iterations: 8\n"
     ]
    }
   ],
   "source": [
    "# Step 9: Complete Document Extraction with Corrective RAG\n",
    "print(\"Step 9: Running complete extraction...\")\n",
    "print(\"=\" * 60)\n",
    "\n",
    "def extract_document_with_corrective_rag():\n",
    "    \"\"\"Extract all document info using corrective RAG.\"\"\"\n",
    "    print(\"\\n\" + \"=\"*70)\n",
    "    print(\"COMPLETE DOCUMENT EXTRACTION\")\n",
    "    print(\"=\"*70 + \"\\n\")\n",
    "    \n",
    "    queries = {\n",
    "        'summary': \"What is the abstract, main purpose, and overview of this paper?\",\n",
    "        'methods': \"What research methods, study design, and analytical approaches were used?\",\n",
    "        'findings': \"What are the key findings, results, and conclusions?\",\n",
    "        'type': \"What type of document is this? Ex. case study, clinical trial, review article, meta-analysis, research article, technical workshop paper, etc.\"\n",
    "    }\n",
    "    \n",
    "    extraction_results = {}\n",
    "    \n",
    "    for section, query in queries.items():\n",
    "        print(f\"\\n{'─'*70}\")\n",
    "        print(f\"EXTRACTING: {section.upper()}\")\n",
    "        print(f\"{'─'*70}\")\n",
    "        result = corrective_rag_retrieval(query, max_iterations=2, top_k=5)\n",
    "        extraction_results[section] = result\n",
    "    \n",
    "    # Compile contexts\n",
    "    summary_ctx = \"\\n\\n---\\n\\n\".join([\n",
    "        c['content'][:2500] for c in extraction_results['summary']['relevant_chunks'][:3]\n",
    "    ]) if extraction_results['summary']['relevant_chunks'] else \"Not found\"\n",
    "    \n",
    "    methods_ctx = \"\\n\\n---\\n\\n\".join([\n",
    "        c['content'][:2500] for c in extraction_results['methods']['relevant_chunks'][:3]\n",
    "    ]) if extraction_results['methods']['relevant_chunks'] else \"Not found\"\n",
    "    \n",
    "    findings_ctx = \"\\n\\n---\\n\\n\".join([\n",
    "        c['content'][:2500] for c in extraction_results['findings']['relevant_chunks'][:3]\n",
    "    ]) if extraction_results['findings']['relevant_chunks'] else \"Not found\"\n",
    "\n",
    "    type_ctx = \"\\n\\n---\\n\\n\".join([\n",
    "        c['content'][:2500] for c in extraction_results['type']['relevant_chunks'][:3]\n",
    "    ]) if extraction_results['type']['relevant_chunks'] else \"Not found\"\n",
    "    \n",
    "    # Generate extraction\n",
    "    final_prompt = f\"\"\"Extract comprehensive information:\n",
    "Always generate normal text. Do not try to use markdown/HTML or special formatting.\n",
    "## Document Information\n",
    "**Author(s):** {document_metadata['authors'] or 'Not found'}\n",
    "**Date:** {document_metadata['date'] or 'Not found'}\n",
    "**Document Type:** : [case study, clinical trial, review article, meta-analysis, research article, technical workshop paper, etc.]\n",
    "\n",
    "## Document Summary\n",
    "[2-3 sentence summary]\n",
    "\n",
    "## Research Methods\n",
    "[Summarize: study design, data sources, sample size, analytical methods]\n",
    "\n",
    "## Key Findings and Conclusions\n",
    "[Summarize: primary outcomes, statistical significance, conclusions, implications]\n",
    "\n",
    "---\n",
    "Document Type:\n",
    "{findings_ctx[:3000]}\n",
    "\n",
    "SUMMARY:\n",
    "{summary_ctx[:4000]}\n",
    "\n",
    "---\n",
    "METHODS:\n",
    "{methods_ctx[:4000]}\n",
    "\n",
    "---\n",
    "FINDINGS:\n",
    "{findings_ctx[:3000]}\n",
    "\"\"\"\n",
    "    \n",
    "    print(f\"\\n{'='*70}\")\n",
    "    print(\"GENERATING FINAL EXTRACTION...\")\n",
    "    print(f\"{'='*70}\\n\")\n",
    "    \n",
    "    response = groq_client.chat.completions.create(\n",
    "        model=\"openai/gpt-oss-120b\",\n",
    "        messages=[{\"role\": \"user\", \"content\": final_prompt}],\n",
    "        temperature=0.2,\n",
    "        max_completion_tokens=1500,\n",
    "    )\n",
    "    \n",
    "    final_extraction = response.choices[0].message.content\n",
    "    \n",
    "    print(\"=\"*70)\n",
    "    print(\"FINAL EXTRACTION\")\n",
    "    print(\"=\"*70)\n",
    "    print(final_extraction)\n",
    "    print(\"=\"*70)\n",
    "    \n",
    "    print(f\"\\nStatistics:\")\n",
    "    print(f\"  Summary chunks: {len(extraction_results['summary']['relevant_chunks'])}\")\n",
    "    print(f\"  Methods chunks: {len(extraction_results['methods']['relevant_chunks'])}\")\n",
    "    print(f\"  Findings chunks: {len(extraction_results['findings']['relevant_chunks'])}\")\n",
    "    print(f\"  Total iterations: {sum(r['iterations'] for r in extraction_results.values())}\")\n",
    "    \n",
    "    return final_extraction\n",
    "\n",
    "# Run complete extraction\n",
    "final_result = extract_document_with_corrective_rag()"
   ]
  },
  {
   "cell_type": "code",
   "execution_count": null,
   "metadata": {},
   "outputs": [],
   "source": []
  }
 ],
 "metadata": {
  "kernelspec": {
   "display_name": "python-3.11",
   "language": "python",
   "name": "python3"
  },
  "language_info": {
   "codemirror_mode": {
    "name": "ipython",
    "version": 3
   },
   "file_extension": ".py",
   "mimetype": "text/x-python",
   "name": "python",
   "nbconvert_exporter": "python",
   "pygments_lexer": "ipython3",
   "version": "3.11.13"
  }
 },
 "nbformat": 4,
 "nbformat_minor": 4
}
